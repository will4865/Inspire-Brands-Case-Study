{
 "cells": [
  {
   "cell_type": "markdown",
   "metadata": {},
   "source": [
    "# Import Libraries"
   ]
  },
  {
   "cell_type": "code",
   "execution_count": 1,
   "metadata": {
    "ExecuteTime": {
     "end_time": "2020-09-03T16:38:49.347490Z",
     "start_time": "2020-09-03T16:38:48.925115Z"
    }
   },
   "outputs": [],
   "source": [
    "import pandas as pd"
   ]
  },
  {
   "cell_type": "code",
   "execution_count": 4,
   "metadata": {
    "ExecuteTime": {
     "end_time": "2020-09-03T16:45:16.779742Z",
     "start_time": "2020-09-03T16:45:16.343313Z"
    }
   },
   "outputs": [
    {
     "data": {
      "text/html": [
       "<div>\n",
       "<style scoped>\n",
       "    .dataframe tbody tr th:only-of-type {\n",
       "        vertical-align: middle;\n",
       "    }\n",
       "\n",
       "    .dataframe tbody tr th {\n",
       "        vertical-align: top;\n",
       "    }\n",
       "\n",
       "    .dataframe thead th {\n",
       "        text-align: right;\n",
       "    }\n",
       "</style>\n",
       "<table border=\"1\" class=\"dataframe\">\n",
       "  <thead>\n",
       "    <tr style=\"text-align: right;\">\n",
       "      <th></th>\n",
       "      <th>Rest_Number</th>\n",
       "      <th>Rest_DMA_Code</th>\n",
       "      <th>Rest_DMA_Desc</th>\n",
       "      <th>Fiscal_Year</th>\n",
       "      <th>Fiscal_Week_Number</th>\n",
       "      <th>Days_Date</th>\n",
       "      <th>Sales_TY</th>\n",
       "    </tr>\n",
       "  </thead>\n",
       "  <tbody>\n",
       "    <tr>\n",
       "      <th>0</th>\n",
       "      <td>1</td>\n",
       "      <td>536</td>\n",
       "      <td>YOUNGSTOWN</td>\n",
       "      <td>2015</td>\n",
       "      <td>1</td>\n",
       "      <td>12/29/2014</td>\n",
       "      <td>2600.03</td>\n",
       "    </tr>\n",
       "    <tr>\n",
       "      <th>1</th>\n",
       "      <td>1</td>\n",
       "      <td>536</td>\n",
       "      <td>YOUNGSTOWN</td>\n",
       "      <td>2015</td>\n",
       "      <td>1</td>\n",
       "      <td>12/30/2014</td>\n",
       "      <td>2333.04</td>\n",
       "    </tr>\n",
       "    <tr>\n",
       "      <th>2</th>\n",
       "      <td>1</td>\n",
       "      <td>536</td>\n",
       "      <td>YOUNGSTOWN</td>\n",
       "      <td>2015</td>\n",
       "      <td>1</td>\n",
       "      <td>12/31/2014</td>\n",
       "      <td>2045.05</td>\n",
       "    </tr>\n",
       "    <tr>\n",
       "      <th>3</th>\n",
       "      <td>1</td>\n",
       "      <td>536</td>\n",
       "      <td>YOUNGSTOWN</td>\n",
       "      <td>2015</td>\n",
       "      <td>1</td>\n",
       "      <td>1/1/2015</td>\n",
       "      <td>1355.33</td>\n",
       "    </tr>\n",
       "    <tr>\n",
       "      <th>4</th>\n",
       "      <td>1</td>\n",
       "      <td>536</td>\n",
       "      <td>YOUNGSTOWN</td>\n",
       "      <td>2015</td>\n",
       "      <td>1</td>\n",
       "      <td>1/2/2015</td>\n",
       "      <td>2645.63</td>\n",
       "    </tr>\n",
       "  </tbody>\n",
       "</table>\n",
       "</div>"
      ],
      "text/plain": [
       "   Rest_Number  Rest_DMA_Code                   Rest_DMA_Desc  Fiscal_Year  \\\n",
       "0            1            536  YOUNGSTOWN                             2015   \n",
       "1            1            536  YOUNGSTOWN                             2015   \n",
       "2            1            536  YOUNGSTOWN                             2015   \n",
       "3            1            536  YOUNGSTOWN                             2015   \n",
       "4            1            536  YOUNGSTOWN                             2015   \n",
       "\n",
       "   Fiscal_Week_Number   Days_Date  Sales_TY  \n",
       "0                   1  12/29/2014   2600.03  \n",
       "1                   1  12/30/2014   2333.04  \n",
       "2                   1  12/31/2014   2045.05  \n",
       "3                   1    1/1/2015   1355.33  \n",
       "4                   1    1/2/2015   2645.63  "
      ]
     },
     "execution_count": 4,
     "metadata": {},
     "output_type": "execute_result"
    }
   ],
   "source": [
    "arg_sales1 = pd.read_csv('/Users/will4856/inspire_brands_case_study_data/arg_sales_2015_2016.csv')\n",
    "arg_sales1.head()"
   ]
  },
  {
   "cell_type": "code",
   "execution_count": 10,
   "metadata": {
    "ExecuteTime": {
     "end_time": "2020-09-03T16:56:11.733834Z",
     "start_time": "2020-09-03T16:56:11.667576Z"
    }
   },
   "outputs": [
    {
     "name": "stdout",
     "output_type": "stream",
     "text": [
      "<class 'pandas.core.frame.DataFrame'>\n",
      "RangeIndex: 710163 entries, 0 to 710162\n",
      "Data columns (total 7 columns):\n",
      " #   Column              Non-Null Count   Dtype  \n",
      "---  ------              --------------   -----  \n",
      " 0   Rest_Number         710163 non-null  int64  \n",
      " 1   Rest_DMA_Code       710163 non-null  int64  \n",
      " 2   Rest_DMA_Desc       710163 non-null  object \n",
      " 3   Fiscal_Year         710163 non-null  int64  \n",
      " 4   Fiscal_Week_Number  710163 non-null  int64  \n",
      " 5   Days_Date           710163 non-null  object \n",
      " 6   Sales_TY            710163 non-null  float64\n",
      "dtypes: float64(1), int64(4), object(2)\n",
      "memory usage: 37.9+ MB\n"
     ]
    }
   ],
   "source": [
    "arg_sales1.info()"
   ]
  },
  {
   "cell_type": "code",
   "execution_count": 5,
   "metadata": {
    "ExecuteTime": {
     "end_time": "2020-09-03T16:46:51.594731Z",
     "start_time": "2020-09-03T16:45:49.638623Z"
    }
   },
   "outputs": [
    {
     "data": {
      "text/html": [
       "<div>\n",
       "<style scoped>\n",
       "    .dataframe tbody tr th:only-of-type {\n",
       "        vertical-align: middle;\n",
       "    }\n",
       "\n",
       "    .dataframe tbody tr th {\n",
       "        vertical-align: top;\n",
       "    }\n",
       "\n",
       "    .dataframe thead th {\n",
       "        text-align: right;\n",
       "    }\n",
       "</style>\n",
       "<table border=\"1\" class=\"dataframe\">\n",
       "  <thead>\n",
       "    <tr style=\"text-align: right;\">\n",
       "      <th></th>\n",
       "      <th>Rest_Number</th>\n",
       "      <th>Rest_DMA_Code</th>\n",
       "      <th>Rest_DMA_Desc</th>\n",
       "      <th>Fiscal_Year</th>\n",
       "      <th>Fiscal_Week_Number</th>\n",
       "      <th>Days_Date</th>\n",
       "      <th>Sales_TY</th>\n",
       "    </tr>\n",
       "  </thead>\n",
       "  <tbody>\n",
       "    <tr>\n",
       "      <th>0</th>\n",
       "      <td>1</td>\n",
       "      <td>536</td>\n",
       "      <td>YOUNGSTOWN</td>\n",
       "      <td>2015</td>\n",
       "      <td>1</td>\n",
       "      <td>2014-12-29</td>\n",
       "      <td>2600.03</td>\n",
       "    </tr>\n",
       "    <tr>\n",
       "      <th>1</th>\n",
       "      <td>1</td>\n",
       "      <td>536</td>\n",
       "      <td>YOUNGSTOWN</td>\n",
       "      <td>2015</td>\n",
       "      <td>1</td>\n",
       "      <td>2014-12-30</td>\n",
       "      <td>2333.04</td>\n",
       "    </tr>\n",
       "    <tr>\n",
       "      <th>2</th>\n",
       "      <td>1</td>\n",
       "      <td>536</td>\n",
       "      <td>YOUNGSTOWN</td>\n",
       "      <td>2015</td>\n",
       "      <td>1</td>\n",
       "      <td>2014-12-31</td>\n",
       "      <td>2045.05</td>\n",
       "    </tr>\n",
       "    <tr>\n",
       "      <th>3</th>\n",
       "      <td>1</td>\n",
       "      <td>536</td>\n",
       "      <td>YOUNGSTOWN</td>\n",
       "      <td>2015</td>\n",
       "      <td>1</td>\n",
       "      <td>2015-01-01</td>\n",
       "      <td>1355.33</td>\n",
       "    </tr>\n",
       "    <tr>\n",
       "      <th>4</th>\n",
       "      <td>1</td>\n",
       "      <td>536</td>\n",
       "      <td>YOUNGSTOWN</td>\n",
       "      <td>2015</td>\n",
       "      <td>1</td>\n",
       "      <td>2015-01-02</td>\n",
       "      <td>2645.63</td>\n",
       "    </tr>\n",
       "  </tbody>\n",
       "</table>\n",
       "</div>"
      ],
      "text/plain": [
       "   Rest_Number  Rest_DMA_Code                   Rest_DMA_Desc  Fiscal_Year  \\\n",
       "0            1            536  YOUNGSTOWN                             2015   \n",
       "1            1            536  YOUNGSTOWN                             2015   \n",
       "2            1            536  YOUNGSTOWN                             2015   \n",
       "3            1            536  YOUNGSTOWN                             2015   \n",
       "4            1            536  YOUNGSTOWN                             2015   \n",
       "\n",
       "   Fiscal_Week_Number  Days_Date  Sales_TY  \n",
       "0                   1 2014-12-29   2600.03  \n",
       "1                   1 2014-12-30   2333.04  \n",
       "2                   1 2014-12-31   2045.05  \n",
       "3                   1 2015-01-01   1355.33  \n",
       "4                   1 2015-01-02   2645.63  "
      ]
     },
     "execution_count": 5,
     "metadata": {},
     "output_type": "execute_result"
    }
   ],
   "source": [
    "arg_sales2 = pd.read_excel('/Users/will4856/inspire_brands_case_study_data/arg_sales_2015_2016.xlsx')\n",
    "arg_sales2.head()"
   ]
  },
  {
   "cell_type": "code",
   "execution_count": 9,
   "metadata": {
    "ExecuteTime": {
     "end_time": "2020-09-03T16:56:02.015263Z",
     "start_time": "2020-09-03T16:56:01.971512Z"
    }
   },
   "outputs": [
    {
     "name": "stdout",
     "output_type": "stream",
     "text": [
      "<class 'pandas.core.frame.DataFrame'>\n",
      "RangeIndex: 710163 entries, 0 to 710162\n",
      "Data columns (total 7 columns):\n",
      " #   Column              Non-Null Count   Dtype         \n",
      "---  ------              --------------   -----         \n",
      " 0   Rest_Number         710163 non-null  int64         \n",
      " 1   Rest_DMA_Code       710163 non-null  int64         \n",
      " 2   Rest_DMA_Desc       710163 non-null  object        \n",
      " 3   Fiscal_Year         710163 non-null  int64         \n",
      " 4   Fiscal_Week_Number  710163 non-null  int64         \n",
      " 5   Days_Date           710163 non-null  datetime64[ns]\n",
      " 6   Sales_TY            710163 non-null  float64       \n",
      "dtypes: datetime64[ns](1), float64(1), int64(4), object(1)\n",
      "memory usage: 37.9+ MB\n"
     ]
    }
   ],
   "source": [
    "arg_sales2.info()"
   ]
  },
  {
   "cell_type": "code",
   "execution_count": 6,
   "metadata": {
    "ExecuteTime": {
     "end_time": "2020-09-03T16:54:29.340754Z",
     "start_time": "2020-09-03T16:54:28.829823Z"
    }
   },
   "outputs": [
    {
     "data": {
      "text/html": [
       "<div>\n",
       "<style scoped>\n",
       "    .dataframe tbody tr th:only-of-type {\n",
       "        vertical-align: middle;\n",
       "    }\n",
       "\n",
       "    .dataframe tbody tr th {\n",
       "        vertical-align: top;\n",
       "    }\n",
       "\n",
       "    .dataframe thead th {\n",
       "        text-align: right;\n",
       "    }\n",
       "</style>\n",
       "<table border=\"1\" class=\"dataframe\">\n",
       "  <thead>\n",
       "    <tr style=\"text-align: right;\">\n",
       "      <th></th>\n",
       "      <th>Rest_Number</th>\n",
       "      <th>Rest_DMA_Code</th>\n",
       "      <th>Rest_DMA_Desc</th>\n",
       "      <th>Fiscal_Year</th>\n",
       "      <th>Fiscal_Week_Number</th>\n",
       "      <th>Days_Date</th>\n",
       "      <th>Sales_TY</th>\n",
       "    </tr>\n",
       "  </thead>\n",
       "  <tbody>\n",
       "    <tr>\n",
       "      <th>0</th>\n",
       "      <td>1</td>\n",
       "      <td>536</td>\n",
       "      <td>YOUNGSTOWN</td>\n",
       "      <td>2017</td>\n",
       "      <td>1</td>\n",
       "      <td>1/2/2017</td>\n",
       "      <td>3119.95</td>\n",
       "    </tr>\n",
       "    <tr>\n",
       "      <th>1</th>\n",
       "      <td>1</td>\n",
       "      <td>536</td>\n",
       "      <td>YOUNGSTOWN</td>\n",
       "      <td>2017</td>\n",
       "      <td>1</td>\n",
       "      <td>1/3/2017</td>\n",
       "      <td>3676.76</td>\n",
       "    </tr>\n",
       "    <tr>\n",
       "      <th>2</th>\n",
       "      <td>1</td>\n",
       "      <td>536</td>\n",
       "      <td>YOUNGSTOWN</td>\n",
       "      <td>2017</td>\n",
       "      <td>1</td>\n",
       "      <td>1/4/2017</td>\n",
       "      <td>3949.02</td>\n",
       "    </tr>\n",
       "    <tr>\n",
       "      <th>3</th>\n",
       "      <td>1</td>\n",
       "      <td>536</td>\n",
       "      <td>YOUNGSTOWN</td>\n",
       "      <td>2017</td>\n",
       "      <td>1</td>\n",
       "      <td>1/5/2017</td>\n",
       "      <td>3012.36</td>\n",
       "    </tr>\n",
       "    <tr>\n",
       "      <th>4</th>\n",
       "      <td>1</td>\n",
       "      <td>536</td>\n",
       "      <td>YOUNGSTOWN</td>\n",
       "      <td>2017</td>\n",
       "      <td>1</td>\n",
       "      <td>1/6/2017</td>\n",
       "      <td>3948.25</td>\n",
       "    </tr>\n",
       "  </tbody>\n",
       "</table>\n",
       "</div>"
      ],
      "text/plain": [
       "   Rest_Number  Rest_DMA_Code                   Rest_DMA_Desc  Fiscal_Year  \\\n",
       "0            1            536  YOUNGSTOWN                             2017   \n",
       "1            1            536  YOUNGSTOWN                             2017   \n",
       "2            1            536  YOUNGSTOWN                             2017   \n",
       "3            1            536  YOUNGSTOWN                             2017   \n",
       "4            1            536  YOUNGSTOWN                             2017   \n",
       "\n",
       "   Fiscal_Week_Number Days_Date  Sales_TY  \n",
       "0                   1  1/2/2017   3119.95  \n",
       "1                   1  1/3/2017   3676.76  \n",
       "2                   1  1/4/2017   3949.02  \n",
       "3                   1  1/5/2017   3012.36  \n",
       "4                   1  1/6/2017   3948.25  "
      ]
     },
     "execution_count": 6,
     "metadata": {},
     "output_type": "execute_result"
    }
   ],
   "source": [
    "arg_sales3 = pd.read_csv('/Users/will4856/inspire_brands_case_study_data/arg_sales_2017_2018.csv')\n",
    "arg_sales3.head()"
   ]
  },
  {
   "cell_type": "code",
   "execution_count": null,
   "metadata": {},
   "outputs": [],
   "source": []
  }
 ],
 "metadata": {
  "kernelspec": {
   "display_name": "learn-env",
   "language": "python",
   "name": "learn-env"
  },
  "language_info": {
   "codemirror_mode": {
    "name": "ipython",
    "version": 3
   },
   "file_extension": ".py",
   "mimetype": "text/x-python",
   "name": "python",
   "nbconvert_exporter": "python",
   "pygments_lexer": "ipython3",
   "version": "3.6.9"
  },
  "toc": {
   "base_numbering": 1,
   "nav_menu": {},
   "number_sections": true,
   "sideBar": true,
   "skip_h1_title": false,
   "title_cell": "Table of Contents",
   "title_sidebar": "Contents",
   "toc_cell": false,
   "toc_position": {},
   "toc_section_display": true,
   "toc_window_display": true
  },
  "varInspector": {
   "cols": {
    "lenName": 16,
    "lenType": 16,
    "lenVar": 40
   },
   "kernels_config": {
    "python": {
     "delete_cmd_postfix": "",
     "delete_cmd_prefix": "del ",
     "library": "var_list.py",
     "varRefreshCmd": "print(var_dic_list())"
    },
    "r": {
     "delete_cmd_postfix": ") ",
     "delete_cmd_prefix": "rm(",
     "library": "var_list.r",
     "varRefreshCmd": "cat(var_dic_list()) "
    }
   },
   "types_to_exclude": [
    "module",
    "function",
    "builtin_function_or_method",
    "instance",
    "_Feature"
   ],
   "window_display": false
  }
 },
 "nbformat": 4,
 "nbformat_minor": 2
}
