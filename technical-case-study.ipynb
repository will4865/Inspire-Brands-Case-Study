{
 "cells": [
  {
   "cell_type": "markdown",
   "metadata": {},
   "source": [
    "# Import Libraries"
   ]
  },
  {
   "cell_type": "code",
   "execution_count": 99,
   "metadata": {
    "ExecuteTime": {
     "end_time": "2020-09-05T15:34:33.671766Z",
     "start_time": "2020-09-05T15:34:33.662826Z"
    }
   },
   "outputs": [],
   "source": [
    "import pandas as pd\n",
    "pd.options.display.max_rows = 100 \n",
    "pd.options.display.max_columns = 50\n",
    "import matplotlib.pyplot as plt\n",
    "import matplotlib.dates as mdates\n",
    "%matplotlib inline\n",
    "import seaborn as sns\n",
    "import numpy as np\n",
    "from statsmodels.graphics.tsaplots import plot_pacf\n",
    "from statsmodels.graphics.tsaplots import plot_acf\n",
    "import itertools\n",
    "import statsmodels.api as sm\n",
    "from matplotlib.pylab import rcParams\n",
    "import datetime\n",
    "from sklearn.model_selection import train_test_split\n",
    "from sklearn.ensemble import RandomForestRegressor\n",
    "from sklearn.model_selection import GridSearchCV\n",
    "import warnings\n",
    "warnings.filterwarnings('ignore')"
   ]
  },
  {
   "cell_type": "markdown",
   "metadata": {},
   "source": [
    "# Load All Data Sets"
   ]
  },
  {
   "cell_type": "code",
   "execution_count": 19,
   "metadata": {
    "ExecuteTime": {
     "end_time": "2020-09-05T14:52:09.650611Z",
     "start_time": "2020-09-05T14:52:09.187983Z"
    }
   },
   "outputs": [],
   "source": [
    "arg_sales1 = pd.read_csv('/Users/will4856/inspire_brands_case_study_data/arg_sales_2015_2016.csv')"
   ]
  },
  {
   "cell_type": "code",
   "execution_count": 20,
   "metadata": {
    "ExecuteTime": {
     "end_time": "2020-09-05T14:52:10.477805Z",
     "start_time": "2020-09-05T14:52:09.967885Z"
    }
   },
   "outputs": [],
   "source": [
    "arg_sales3 = pd.read_csv('/Users/will4856/inspire_brands_case_study_data/arg_sales_2017_2018.csv')"
   ]
  },
  {
   "cell_type": "code",
   "execution_count": 21,
   "metadata": {
    "ExecuteTime": {
     "end_time": "2020-09-05T14:52:10.805082Z",
     "start_time": "2020-09-05T14:52:10.791700Z"
    }
   },
   "outputs": [],
   "source": [
    "tv_media = pd.read_csv('/Users/will4856/inspire_brands_case_study_data/case_study_media_data.csv')"
   ]
  },
  {
   "cell_type": "code",
   "execution_count": 38,
   "metadata": {
    "ExecuteTime": {
     "end_time": "2020-09-05T14:55:48.784495Z",
     "start_time": "2020-09-05T14:55:48.774305Z"
    }
   },
   "outputs": [],
   "source": [
    "competition = pd.read_csv('/Users/will4856/inspire_brands_case_study_data/Competitive Data.csv')"
   ]
  },
  {
   "cell_type": "code",
   "execution_count": 23,
   "metadata": {
    "ExecuteTime": {
     "end_time": "2020-09-05T14:52:12.159557Z",
     "start_time": "2020-09-05T14:52:12.138779Z"
    }
   },
   "outputs": [],
   "source": [
    "print_media = pd.read_csv('/Users/will4856/inspire_brands_case_study_data/store print info.csv')"
   ]
  },
  {
   "cell_type": "code",
   "execution_count": 24,
   "metadata": {
    "ExecuteTime": {
     "end_time": "2020-09-05T14:52:12.596940Z",
     "start_time": "2020-09-05T14:52:12.583506Z"
    },
    "scrolled": true
   },
   "outputs": [],
   "source": [
    "restaurant = pd.read_csv('/Users/will4856/inspire_brands_case_study_data/restaurant.csv')"
   ]
  },
  {
   "cell_type": "code",
   "execution_count": 25,
   "metadata": {
    "ExecuteTime": {
     "end_time": "2020-09-05T14:52:13.446868Z",
     "start_time": "2020-09-05T14:52:12.911085Z"
    }
   },
   "outputs": [],
   "source": [
    "weather1 = pd.read_csv('/Users/will4856/inspire_brands_case_study_data/weather_2015.csv')"
   ]
  },
  {
   "cell_type": "code",
   "execution_count": 26,
   "metadata": {
    "ExecuteTime": {
     "end_time": "2020-09-05T14:52:14.275816Z",
     "start_time": "2020-09-05T14:52:13.753670Z"
    }
   },
   "outputs": [],
   "source": [
    "weather2 = pd.read_csv('/Users/will4856/inspire_brands_case_study_data/weather_2016.csv')"
   ]
  },
  {
   "cell_type": "code",
   "execution_count": 27,
   "metadata": {
    "ExecuteTime": {
     "end_time": "2020-09-05T14:52:15.112148Z",
     "start_time": "2020-09-05T14:52:14.577936Z"
    }
   },
   "outputs": [],
   "source": [
    "weather3 = pd.read_csv('/Users/will4856/inspire_brands_case_study_data/weather_2017.csv')"
   ]
  },
  {
   "cell_type": "code",
   "execution_count": 28,
   "metadata": {
    "ExecuteTime": {
     "end_time": "2020-09-05T14:52:15.961329Z",
     "start_time": "2020-09-05T14:52:15.417566Z"
    }
   },
   "outputs": [
    {
     "name": "stderr",
     "output_type": "stream",
     "text": [
      "/Users/will4856/opt/anaconda3/envs/learn-env/lib/python3.6/site-packages/IPython/core/interactiveshell.py:3058: DtypeWarning: Columns (2,3,7,8,9) have mixed types.Specify dtype option on import or set low_memory=False.\n",
      "  interactivity=interactivity, compiler=compiler, result=result)\n"
     ]
    }
   ],
   "source": [
    "weather4 = pd.read_csv('/Users/will4856/inspire_brands_case_study_data/weather_2018.csv')"
   ]
  },
  {
   "cell_type": "markdown",
   "metadata": {},
   "source": [
    "# Data Cleaning"
   ]
  },
  {
   "cell_type": "markdown",
   "metadata": {},
   "source": [
    "## Arg_sales"
   ]
  },
  {
   "cell_type": "markdown",
   "metadata": {},
   "source": [
    "### Combine arg_sales1 and arg_sales3 into one dataframe"
   ]
  },
  {
   "cell_type": "code",
   "execution_count": 29,
   "metadata": {
    "ExecuteTime": {
     "end_time": "2020-09-05T14:52:32.289243Z",
     "start_time": "2020-09-05T14:52:32.162418Z"
    }
   },
   "outputs": [],
   "source": [
    "arg_sales = pd.concat([arg_sales1, arg_sales3])"
   ]
  },
  {
   "cell_type": "markdown",
   "metadata": {},
   "source": [
    "### Change Days_Date column to DateTime format"
   ]
  },
  {
   "cell_type": "code",
   "execution_count": 30,
   "metadata": {
    "ExecuteTime": {
     "end_time": "2020-09-05T14:54:19.618994Z",
     "start_time": "2020-09-05T14:52:38.888797Z"
    }
   },
   "outputs": [],
   "source": [
    "arg_sales['Days_Date'] = pd.to_datetime(arg_sales['Days_Date'])"
   ]
  },
  {
   "cell_type": "code",
   "execution_count": 31,
   "metadata": {
    "ExecuteTime": {
     "end_time": "2020-09-05T14:54:20.029463Z",
     "start_time": "2020-09-05T14:54:20.004334Z"
    }
   },
   "outputs": [
    {
     "name": "stdout",
     "output_type": "stream",
     "text": [
      "There are 1169 unique restaurants included in the sales chart\n"
     ]
    }
   ],
   "source": [
    "print(\"There are\",len(arg_sales['Rest_Number'].value_counts()), \"unique restaurants included in the sales chart\")"
   ]
  },
  {
   "cell_type": "markdown",
   "metadata": {},
   "source": [
    "### Grouped arg_sales data frame by Rest_Number, Fiscal_Year, and Fiscal_Week_Number"
   ]
  },
  {
   "cell_type": "code",
   "execution_count": 32,
   "metadata": {
    "ExecuteTime": {
     "end_time": "2020-09-05T14:54:45.474442Z",
     "start_time": "2020-09-05T14:54:45.238152Z"
    },
    "scrolled": true
   },
   "outputs": [
    {
     "data": {
      "text/html": [
       "<div>\n",
       "<style scoped>\n",
       "    .dataframe tbody tr th:only-of-type {\n",
       "        vertical-align: middle;\n",
       "    }\n",
       "\n",
       "    .dataframe tbody tr th {\n",
       "        vertical-align: top;\n",
       "    }\n",
       "\n",
       "    .dataframe thead th {\n",
       "        text-align: right;\n",
       "    }\n",
       "</style>\n",
       "<table border=\"1\" class=\"dataframe\">\n",
       "  <thead>\n",
       "    <tr style=\"text-align: right;\">\n",
       "      <th></th>\n",
       "      <th></th>\n",
       "      <th></th>\n",
       "      <th>Sum_Sales_For_Week</th>\n",
       "    </tr>\n",
       "    <tr>\n",
       "      <th>Rest_Number</th>\n",
       "      <th>Fiscal_Year</th>\n",
       "      <th>Fiscal_Week_Number</th>\n",
       "      <th></th>\n",
       "    </tr>\n",
       "  </thead>\n",
       "  <tbody>\n",
       "    <tr>\n",
       "      <th rowspan=\"25\" valign=\"top\">1</th>\n",
       "      <th rowspan=\"25\" valign=\"top\">2015</th>\n",
       "      <th>1</th>\n",
       "      <td>14808.43</td>\n",
       "    </tr>\n",
       "    <tr>\n",
       "      <th>2</th>\n",
       "      <td>11590.93</td>\n",
       "    </tr>\n",
       "    <tr>\n",
       "      <th>3</th>\n",
       "      <td>13627.44</td>\n",
       "    </tr>\n",
       "    <tr>\n",
       "      <th>4</th>\n",
       "      <td>15834.42</td>\n",
       "    </tr>\n",
       "    <tr>\n",
       "      <th>5</th>\n",
       "      <td>17747.08</td>\n",
       "    </tr>\n",
       "    <tr>\n",
       "      <th>6</th>\n",
       "      <td>21567.89</td>\n",
       "    </tr>\n",
       "    <tr>\n",
       "      <th>7</th>\n",
       "      <td>18637.83</td>\n",
       "    </tr>\n",
       "    <tr>\n",
       "      <th>8</th>\n",
       "      <td>16542.51</td>\n",
       "    </tr>\n",
       "    <tr>\n",
       "      <th>9</th>\n",
       "      <td>19725.59</td>\n",
       "    </tr>\n",
       "    <tr>\n",
       "      <th>10</th>\n",
       "      <td>18668.14</td>\n",
       "    </tr>\n",
       "    <tr>\n",
       "      <th>11</th>\n",
       "      <td>18628.39</td>\n",
       "    </tr>\n",
       "    <tr>\n",
       "      <th>12</th>\n",
       "      <td>18115.05</td>\n",
       "    </tr>\n",
       "    <tr>\n",
       "      <th>13</th>\n",
       "      <td>20870.15</td>\n",
       "    </tr>\n",
       "    <tr>\n",
       "      <th>14</th>\n",
       "      <td>21138.09</td>\n",
       "    </tr>\n",
       "    <tr>\n",
       "      <th>15</th>\n",
       "      <td>18398.85</td>\n",
       "    </tr>\n",
       "    <tr>\n",
       "      <th>16</th>\n",
       "      <td>20857.54</td>\n",
       "    </tr>\n",
       "    <tr>\n",
       "      <th>17</th>\n",
       "      <td>20200.84</td>\n",
       "    </tr>\n",
       "    <tr>\n",
       "      <th>18</th>\n",
       "      <td>23338.69</td>\n",
       "    </tr>\n",
       "    <tr>\n",
       "      <th>19</th>\n",
       "      <td>19060.45</td>\n",
       "    </tr>\n",
       "    <tr>\n",
       "      <th>20</th>\n",
       "      <td>16078.22</td>\n",
       "    </tr>\n",
       "    <tr>\n",
       "      <th>21</th>\n",
       "      <td>18541.92</td>\n",
       "    </tr>\n",
       "    <tr>\n",
       "      <th>22</th>\n",
       "      <td>16089.08</td>\n",
       "    </tr>\n",
       "    <tr>\n",
       "      <th>23</th>\n",
       "      <td>17705.03</td>\n",
       "    </tr>\n",
       "    <tr>\n",
       "      <th>24</th>\n",
       "      <td>17095.14</td>\n",
       "    </tr>\n",
       "    <tr>\n",
       "      <th>25</th>\n",
       "      <td>16748.93</td>\n",
       "    </tr>\n",
       "  </tbody>\n",
       "</table>\n",
       "</div>"
      ],
      "text/plain": [
       "                                            Sum_Sales_For_Week\n",
       "Rest_Number Fiscal_Year Fiscal_Week_Number                    \n",
       "1           2015        1                             14808.43\n",
       "                        2                             11590.93\n",
       "                        3                             13627.44\n",
       "                        4                             15834.42\n",
       "                        5                             17747.08\n",
       "                        6                             21567.89\n",
       "                        7                             18637.83\n",
       "                        8                             16542.51\n",
       "                        9                             19725.59\n",
       "                        10                            18668.14\n",
       "                        11                            18628.39\n",
       "                        12                            18115.05\n",
       "                        13                            20870.15\n",
       "                        14                            21138.09\n",
       "                        15                            18398.85\n",
       "                        16                            20857.54\n",
       "                        17                            20200.84\n",
       "                        18                            23338.69\n",
       "                        19                            19060.45\n",
       "                        20                            16078.22\n",
       "                        21                            18541.92\n",
       "                        22                            16089.08\n",
       "                        23                            17705.03\n",
       "                        24                            17095.14\n",
       "                        25                            16748.93"
      ]
     },
     "execution_count": 32,
     "metadata": {},
     "output_type": "execute_result"
    }
   ],
   "source": [
    "arg_sales_sum_grouped = arg_sales.groupby(['Rest_Number', 'Fiscal_Year','Fiscal_Week_Number']).agg({'Sales_TY':'sum'})\n",
    "arg_sales_sum_grouped.columns = ['Sum_Sales_For_Week']\n",
    "#arg_sales_sum_grouped = arg_sales_sum_grouped.reset_index()\n",
    "arg_sales_sum_grouped.head(25)"
   ]
  },
  {
   "cell_type": "markdown",
   "metadata": {},
   "source": [
    "## tv_media"
   ]
  },
  {
   "cell_type": "code",
   "execution_count": 34,
   "metadata": {
    "ExecuteTime": {
     "end_time": "2020-09-05T14:55:01.632930Z",
     "start_time": "2020-09-05T14:55:01.622071Z"
    }
   },
   "outputs": [
    {
     "name": "stdout",
     "output_type": "stream",
     "text": [
      "<class 'pandas.core.frame.DataFrame'>\n",
      "RangeIndex: 13728 entries, 0 to 13727\n",
      "Data columns (total 5 columns):\n",
      " #   Column              Non-Null Count  Dtype  \n",
      "---  ------              --------------  -----  \n",
      " 0   rest_dma_code       13728 non-null  int64  \n",
      " 1   fiscal_year         13728 non-null  int64  \n",
      " 2   fiscal_week_number  13728 non-null  int64  \n",
      " 3   OnAir_TY            13728 non-null  int64  \n",
      " 4   Equal_TRPS_CM_TY    13728 non-null  float64\n",
      "dtypes: float64(1), int64(4)\n",
      "memory usage: 536.4 KB\n"
     ]
    }
   ],
   "source": [
    "tv_media.info()"
   ]
  },
  {
   "cell_type": "markdown",
   "metadata": {},
   "source": [
    "## competition"
   ]
  },
  {
   "cell_type": "markdown",
   "metadata": {},
   "source": [
    "### Sort values by Store # and reset index"
   ]
  },
  {
   "cell_type": "code",
   "execution_count": 39,
   "metadata": {
    "ExecuteTime": {
     "end_time": "2020-09-05T14:55:53.261146Z",
     "start_time": "2020-09-05T14:55:53.245006Z"
    }
   },
   "outputs": [
    {
     "data": {
      "text/html": [
       "<div>\n",
       "<style scoped>\n",
       "    .dataframe tbody tr th:only-of-type {\n",
       "        vertical-align: middle;\n",
       "    }\n",
       "\n",
       "    .dataframe tbody tr th {\n",
       "        vertical-align: top;\n",
       "    }\n",
       "\n",
       "    .dataframe thead th {\n",
       "        text-align: right;\n",
       "    }\n",
       "</style>\n",
       "<table border=\"1\" class=\"dataframe\">\n",
       "  <thead>\n",
       "    <tr style=\"text-align: right;\">\n",
       "      <th></th>\n",
       "      <th>Store #</th>\n",
       "      <th># of McDonalds &lt;1 mi</th>\n",
       "      <th># of Subway &lt;1 mi</th>\n",
       "      <th># of Wendys &lt;1 mi</th>\n",
       "      <th># of Burger King &lt;1 mi</th>\n",
       "      <th># of Taco Bell &lt;1 mi</th>\n",
       "      <th># of McDonalds &lt;0.5 mi</th>\n",
       "      <th># of Subway &lt;0.5 mi</th>\n",
       "      <th># of Wendys &lt;0.5 mi</th>\n",
       "      <th># of Burger King &lt;0.5 mi</th>\n",
       "      <th># of Taco Bell &lt;0.5 mi</th>\n",
       "    </tr>\n",
       "  </thead>\n",
       "  <tbody>\n",
       "    <tr>\n",
       "      <th>0</th>\n",
       "      <td>1</td>\n",
       "      <td>1</td>\n",
       "      <td>1</td>\n",
       "      <td>0</td>\n",
       "      <td>0</td>\n",
       "      <td>1</td>\n",
       "      <td>1</td>\n",
       "      <td>1</td>\n",
       "      <td>0</td>\n",
       "      <td>0</td>\n",
       "      <td>0</td>\n",
       "    </tr>\n",
       "    <tr>\n",
       "      <th>1</th>\n",
       "      <td>2</td>\n",
       "      <td>1</td>\n",
       "      <td>2</td>\n",
       "      <td>1</td>\n",
       "      <td>0</td>\n",
       "      <td>1</td>\n",
       "      <td>1</td>\n",
       "      <td>1</td>\n",
       "      <td>1</td>\n",
       "      <td>0</td>\n",
       "      <td>1</td>\n",
       "    </tr>\n",
       "    <tr>\n",
       "      <th>2</th>\n",
       "      <td>3</td>\n",
       "      <td>1</td>\n",
       "      <td>1</td>\n",
       "      <td>0</td>\n",
       "      <td>0</td>\n",
       "      <td>1</td>\n",
       "      <td>1</td>\n",
       "      <td>1</td>\n",
       "      <td>0</td>\n",
       "      <td>0</td>\n",
       "      <td>0</td>\n",
       "    </tr>\n",
       "    <tr>\n",
       "      <th>3</th>\n",
       "      <td>4</td>\n",
       "      <td>1</td>\n",
       "      <td>2</td>\n",
       "      <td>1</td>\n",
       "      <td>1</td>\n",
       "      <td>0</td>\n",
       "      <td>0</td>\n",
       "      <td>1</td>\n",
       "      <td>1</td>\n",
       "      <td>1</td>\n",
       "      <td>0</td>\n",
       "    </tr>\n",
       "    <tr>\n",
       "      <th>4</th>\n",
       "      <td>10</td>\n",
       "      <td>1</td>\n",
       "      <td>1</td>\n",
       "      <td>1</td>\n",
       "      <td>0</td>\n",
       "      <td>1</td>\n",
       "      <td>0</td>\n",
       "      <td>1</td>\n",
       "      <td>0</td>\n",
       "      <td>0</td>\n",
       "      <td>0</td>\n",
       "    </tr>\n",
       "  </tbody>\n",
       "</table>\n",
       "</div>"
      ],
      "text/plain": [
       "   Store #  # of McDonalds <1 mi  # of Subway <1 mi  # of Wendys <1 mi  \\\n",
       "0        1                     1                  1                  0   \n",
       "1        2                     1                  2                  1   \n",
       "2        3                     1                  1                  0   \n",
       "3        4                     1                  2                  1   \n",
       "4       10                     1                  1                  1   \n",
       "\n",
       "   # of Burger King <1 mi  # of Taco Bell <1 mi  # of McDonalds <0.5 mi  \\\n",
       "0                       0                     1                       1   \n",
       "1                       0                     1                       1   \n",
       "2                       0                     1                       1   \n",
       "3                       1                     0                       0   \n",
       "4                       0                     1                       0   \n",
       "\n",
       "   # of Subway <0.5 mi  # of Wendys <0.5 mi  # of Burger King <0.5 mi  \\\n",
       "0                    1                    0                         0   \n",
       "1                    1                    1                         0   \n",
       "2                    1                    0                         0   \n",
       "3                    1                    1                         1   \n",
       "4                    1                    0                         0   \n",
       "\n",
       "   # of Taco Bell <0.5 mi  \n",
       "0                       0  \n",
       "1                       1  \n",
       "2                       0  \n",
       "3                       0  \n",
       "4                       0  "
      ]
     },
     "execution_count": 39,
     "metadata": {},
     "output_type": "execute_result"
    }
   ],
   "source": [
    "competition = competition.sort_values('Store #')\n",
    "competition = competition.reset_index().drop(columns = ['index'])\n",
    "competition.head()"
   ]
  },
  {
   "cell_type": "markdown",
   "metadata": {},
   "source": [
    "### Dropped redundant competition columns"
   ]
  },
  {
   "cell_type": "code",
   "execution_count": 40,
   "metadata": {
    "ExecuteTime": {
     "end_time": "2020-09-05T14:57:14.176016Z",
     "start_time": "2020-09-05T14:57:14.171505Z"
    }
   },
   "outputs": [],
   "source": [
    "competition.drop(columns = ['# of McDonalds <0.5 mi', '# of Subway <0.5 mi', '# of Wendys <0.5 mi', \n",
    "                            '# of Burger King <0.5 mi', '# of Taco Bell <0.5 mi'], inplace = True)"
   ]
  },
  {
   "cell_type": "markdown",
   "metadata": {},
   "source": [
    "### Add sum_of_competitors column to easily keep track of amount of competition within store radius"
   ]
  },
  {
   "cell_type": "code",
   "execution_count": 41,
   "metadata": {
    "ExecuteTime": {
     "end_time": "2020-09-05T14:57:23.558264Z",
     "start_time": "2020-09-05T14:57:23.544895Z"
    }
   },
   "outputs": [
    {
     "data": {
      "text/html": [
       "<div>\n",
       "<style scoped>\n",
       "    .dataframe tbody tr th:only-of-type {\n",
       "        vertical-align: middle;\n",
       "    }\n",
       "\n",
       "    .dataframe tbody tr th {\n",
       "        vertical-align: top;\n",
       "    }\n",
       "\n",
       "    .dataframe thead th {\n",
       "        text-align: right;\n",
       "    }\n",
       "</style>\n",
       "<table border=\"1\" class=\"dataframe\">\n",
       "  <thead>\n",
       "    <tr style=\"text-align: right;\">\n",
       "      <th></th>\n",
       "      <th>Store #</th>\n",
       "      <th># of McDonalds &lt;1 mi</th>\n",
       "      <th># of Subway &lt;1 mi</th>\n",
       "      <th># of Wendys &lt;1 mi</th>\n",
       "      <th># of Burger King &lt;1 mi</th>\n",
       "      <th># of Taco Bell &lt;1 mi</th>\n",
       "      <th>sum_of_competitors</th>\n",
       "    </tr>\n",
       "  </thead>\n",
       "  <tbody>\n",
       "    <tr>\n",
       "      <th>0</th>\n",
       "      <td>1</td>\n",
       "      <td>1</td>\n",
       "      <td>1</td>\n",
       "      <td>0</td>\n",
       "      <td>0</td>\n",
       "      <td>1</td>\n",
       "      <td>3</td>\n",
       "    </tr>\n",
       "    <tr>\n",
       "      <th>1</th>\n",
       "      <td>2</td>\n",
       "      <td>1</td>\n",
       "      <td>2</td>\n",
       "      <td>1</td>\n",
       "      <td>0</td>\n",
       "      <td>1</td>\n",
       "      <td>5</td>\n",
       "    </tr>\n",
       "    <tr>\n",
       "      <th>2</th>\n",
       "      <td>3</td>\n",
       "      <td>1</td>\n",
       "      <td>1</td>\n",
       "      <td>0</td>\n",
       "      <td>0</td>\n",
       "      <td>1</td>\n",
       "      <td>3</td>\n",
       "    </tr>\n",
       "    <tr>\n",
       "      <th>3</th>\n",
       "      <td>4</td>\n",
       "      <td>1</td>\n",
       "      <td>2</td>\n",
       "      <td>1</td>\n",
       "      <td>1</td>\n",
       "      <td>0</td>\n",
       "      <td>5</td>\n",
       "    </tr>\n",
       "    <tr>\n",
       "      <th>4</th>\n",
       "      <td>10</td>\n",
       "      <td>1</td>\n",
       "      <td>1</td>\n",
       "      <td>1</td>\n",
       "      <td>0</td>\n",
       "      <td>1</td>\n",
       "      <td>4</td>\n",
       "    </tr>\n",
       "  </tbody>\n",
       "</table>\n",
       "</div>"
      ],
      "text/plain": [
       "   Store #  # of McDonalds <1 mi  # of Subway <1 mi  # of Wendys <1 mi  \\\n",
       "0        1                     1                  1                  0   \n",
       "1        2                     1                  2                  1   \n",
       "2        3                     1                  1                  0   \n",
       "3        4                     1                  2                  1   \n",
       "4       10                     1                  1                  1   \n",
       "\n",
       "   # of Burger King <1 mi  # of Taco Bell <1 mi  sum_of_competitors  \n",
       "0                       0                     1                   3  \n",
       "1                       0                     1                   5  \n",
       "2                       0                     1                   3  \n",
       "3                       1                     0                   5  \n",
       "4                       0                     1                   4  "
      ]
     },
     "execution_count": 41,
     "metadata": {},
     "output_type": "execute_result"
    }
   ],
   "source": [
    "competition['sum_of_competitors'] = competition.sum(axis = 1) - competition['Store #']\n",
    "competition.head()"
   ]
  },
  {
   "cell_type": "markdown",
   "metadata": {},
   "source": [
    "## print_media"
   ]
  },
  {
   "cell_type": "code",
   "execution_count": 42,
   "metadata": {
    "ExecuteTime": {
     "end_time": "2020-09-05T14:57:51.067437Z",
     "start_time": "2020-09-05T14:57:51.058691Z"
    }
   },
   "outputs": [
    {
     "name": "stdout",
     "output_type": "stream",
     "text": [
      "<class 'pandas.core.frame.DataFrame'>\n",
      "RangeIndex: 40380 entries, 0 to 40379\n",
      "Data columns (total 4 columns):\n",
      " #   Column              Non-Null Count  Dtype \n",
      "---  ------              --------------  ----- \n",
      " 0   rest_number         40380 non-null  int64 \n",
      " 1   drop_date           40380 non-null  object\n",
      " 2   fiscal_year         40380 non-null  int64 \n",
      " 3   fiscal_week_number  40380 non-null  int64 \n",
      "dtypes: int64(3), object(1)\n",
      "memory usage: 1.2+ MB\n"
     ]
    }
   ],
   "source": [
    "print_media.info()"
   ]
  },
  {
   "cell_type": "markdown",
   "metadata": {},
   "source": [
    "### Sort by rest_number, fiscal_year, and fiscal_week_number"
   ]
  },
  {
   "cell_type": "code",
   "execution_count": 43,
   "metadata": {
    "ExecuteTime": {
     "end_time": "2020-09-05T14:58:09.759330Z",
     "start_time": "2020-09-05T14:58:09.727026Z"
    }
   },
   "outputs": [
    {
     "data": {
      "text/html": [
       "<div>\n",
       "<style scoped>\n",
       "    .dataframe tbody tr th:only-of-type {\n",
       "        vertical-align: middle;\n",
       "    }\n",
       "\n",
       "    .dataframe tbody tr th {\n",
       "        vertical-align: top;\n",
       "    }\n",
       "\n",
       "    .dataframe thead th {\n",
       "        text-align: right;\n",
       "    }\n",
       "</style>\n",
       "<table border=\"1\" class=\"dataframe\">\n",
       "  <thead>\n",
       "    <tr style=\"text-align: right;\">\n",
       "      <th></th>\n",
       "      <th>rest_number</th>\n",
       "      <th>drop_date</th>\n",
       "      <th>fiscal_year</th>\n",
       "      <th>fiscal_week_number</th>\n",
       "    </tr>\n",
       "  </thead>\n",
       "  <tbody>\n",
       "    <tr>\n",
       "      <th>0</th>\n",
       "      <td>1</td>\n",
       "      <td>1/27/2015</td>\n",
       "      <td>2015</td>\n",
       "      <td>5</td>\n",
       "    </tr>\n",
       "    <tr>\n",
       "      <th>1</th>\n",
       "      <td>1</td>\n",
       "      <td>2/24/2015</td>\n",
       "      <td>2015</td>\n",
       "      <td>9</td>\n",
       "    </tr>\n",
       "    <tr>\n",
       "      <th>2</th>\n",
       "      <td>1</td>\n",
       "      <td>3/24/2015</td>\n",
       "      <td>2015</td>\n",
       "      <td>13</td>\n",
       "    </tr>\n",
       "    <tr>\n",
       "      <th>3</th>\n",
       "      <td>1</td>\n",
       "      <td>4/28/2015</td>\n",
       "      <td>2015</td>\n",
       "      <td>18</td>\n",
       "    </tr>\n",
       "    <tr>\n",
       "      <th>4</th>\n",
       "      <td>1</td>\n",
       "      <td>7/28/2015</td>\n",
       "      <td>2015</td>\n",
       "      <td>31</td>\n",
       "    </tr>\n",
       "  </tbody>\n",
       "</table>\n",
       "</div>"
      ],
      "text/plain": [
       "   rest_number  drop_date  fiscal_year  fiscal_week_number\n",
       "0            1  1/27/2015         2015                   5\n",
       "1            1  2/24/2015         2015                   9\n",
       "2            1  3/24/2015         2015                  13\n",
       "3            1  4/28/2015         2015                  18\n",
       "4            1  7/28/2015         2015                  31"
      ]
     },
     "execution_count": 43,
     "metadata": {},
     "output_type": "execute_result"
    }
   ],
   "source": [
    "print_media = print_media.sort_values(['rest_number','fiscal_year', 'fiscal_week_number'])\n",
    "print_media = print_media.reset_index().drop(columns = ['index'])\n",
    "print_media.head()"
   ]
  },
  {
   "cell_type": "markdown",
   "metadata": {},
   "source": [
    "### Convert drop_date to datetime format"
   ]
  },
  {
   "cell_type": "code",
   "execution_count": 45,
   "metadata": {
    "ExecuteTime": {
     "end_time": "2020-09-05T14:59:25.472032Z",
     "start_time": "2020-09-05T14:59:25.464505Z"
    }
   },
   "outputs": [],
   "source": [
    "print_media['drop_date'] = pd.to_datetime(print_media['drop_date'])"
   ]
  },
  {
   "cell_type": "markdown",
   "metadata": {},
   "source": [
    "## restaurant"
   ]
  },
  {
   "cell_type": "markdown",
   "metadata": {},
   "source": [
    "### Drop NaN value from REST_NUMBER column "
   ]
  },
  {
   "cell_type": "code",
   "execution_count": 46,
   "metadata": {
    "ExecuteTime": {
     "end_time": "2020-09-05T14:59:39.737638Z",
     "start_time": "2020-09-05T14:59:39.725849Z"
    }
   },
   "outputs": [
    {
     "name": "stdout",
     "output_type": "stream",
     "text": [
      "<class 'pandas.core.frame.DataFrame'>\n",
      "Int64Index: 5354 entries, 0 to 5354\n",
      "Data columns (total 6 columns):\n",
      " #   Column          Non-Null Count  Dtype  \n",
      "---  ------          --------------  -----  \n",
      " 0   REST_NUMBER     5354 non-null   float64\n",
      " 1   REST_STATUS     5354 non-null   object \n",
      " 2   REST_ADDRSTATE  4887 non-null   object \n",
      " 3   REST_REMODELDT  5354 non-null   int64  \n",
      " 4   REST_OPENDATE   5354 non-null   object \n",
      " 5   REST_CLOSEDATE  5354 non-null   object \n",
      "dtypes: float64(1), int64(1), object(4)\n",
      "memory usage: 292.8+ KB\n"
     ]
    }
   ],
   "source": [
    "restaurant = restaurant.loc[restaurant['REST_NUMBER'].isna() == False]\n",
    "restaurant.info()"
   ]
  },
  {
   "cell_type": "markdown",
   "metadata": {},
   "source": [
    "### Convert REST_NUMBER to int type"
   ]
  },
  {
   "cell_type": "code",
   "execution_count": 48,
   "metadata": {
    "ExecuteTime": {
     "end_time": "2020-09-05T15:00:00.070727Z",
     "start_time": "2020-09-05T15:00:00.067152Z"
    }
   },
   "outputs": [],
   "source": [
    "restaurant['REST_NUMBER'] = restaurant['REST_NUMBER'].astype('int')"
   ]
  },
  {
   "cell_type": "markdown",
   "metadata": {},
   "source": [
    "### Convert REST_REMODELDT, REST_OPENDATE, REST_CLOSEDATE, to date_time"
   ]
  },
  {
   "cell_type": "code",
   "execution_count": 49,
   "metadata": {
    "ExecuteTime": {
     "end_time": "2020-09-05T15:00:05.708018Z",
     "start_time": "2020-09-05T15:00:05.699765Z"
    }
   },
   "outputs": [],
   "source": [
    "restaurant['REST_REMODELDT'] = pd.to_datetime(restaurant['REST_REMODELDT'], format='%Y%m%d')"
   ]
  },
  {
   "cell_type": "code",
   "execution_count": 50,
   "metadata": {
    "ExecuteTime": {
     "end_time": "2020-09-05T15:00:06.701716Z",
     "start_time": "2020-09-05T15:00:06.285411Z"
    }
   },
   "outputs": [],
   "source": [
    "restaurant['REST_OPENDATE'] = pd.to_datetime(restaurant['REST_OPENDATE'])\n",
    "restaurant['REST_CLOSEDATE'] = pd.to_datetime(restaurant['REST_CLOSEDATE'])"
   ]
  },
  {
   "cell_type": "markdown",
   "metadata": {},
   "source": [
    "### Sort by REST_NUMBER and reset index"
   ]
  },
  {
   "cell_type": "code",
   "execution_count": 51,
   "metadata": {
    "ExecuteTime": {
     "end_time": "2020-09-05T15:00:15.775542Z",
     "start_time": "2020-09-05T15:00:15.765455Z"
    }
   },
   "outputs": [],
   "source": [
    "restaurant = restaurant.sort_values('REST_NUMBER').reset_index().drop(columns = 'index')"
   ]
  },
  {
   "cell_type": "markdown",
   "metadata": {},
   "source": [
    "## weather"
   ]
  },
  {
   "cell_type": "markdown",
   "metadata": {},
   "source": [
    "### Combine all weather data frames into one, drop all rows with NaN in all columns"
   ]
  },
  {
   "cell_type": "code",
   "execution_count": 52,
   "metadata": {
    "ExecuteTime": {
     "end_time": "2020-09-05T15:00:22.882282Z",
     "start_time": "2020-09-05T15:00:21.758446Z"
    }
   },
   "outputs": [
    {
     "data": {
      "text/html": [
       "<div>\n",
       "<style scoped>\n",
       "    .dataframe tbody tr th:only-of-type {\n",
       "        vertical-align: middle;\n",
       "    }\n",
       "\n",
       "    .dataframe tbody tr th {\n",
       "        vertical-align: top;\n",
       "    }\n",
       "\n",
       "    .dataframe thead th {\n",
       "        text-align: right;\n",
       "    }\n",
       "</style>\n",
       "<table border=\"1\" class=\"dataframe\">\n",
       "  <thead>\n",
       "    <tr style=\"text-align: right;\">\n",
       "      <th></th>\n",
       "      <th>rest_number</th>\n",
       "      <th>rest_dma_code</th>\n",
       "      <th>rest_dma_desc</th>\n",
       "      <th>Date_TY</th>\n",
       "      <th>Temp_Avg</th>\n",
       "      <th>Temp_Max</th>\n",
       "      <th>Temp_Min</th>\n",
       "      <th>Thunderstorm_bucket</th>\n",
       "      <th>Rain_bucket</th>\n",
       "      <th>Snow_bucket</th>\n",
       "      <th>snow</th>\n",
       "      <th>thunderstorm</th>\n",
       "      <th>rain</th>\n",
       "      <th>clear_weather</th>\n",
       "    </tr>\n",
       "  </thead>\n",
       "  <tbody>\n",
       "    <tr>\n",
       "      <th>0</th>\n",
       "      <td>1.0</td>\n",
       "      <td>536.0</td>\n",
       "      <td>YOUNGSTOWN</td>\n",
       "      <td>2/2/2015</td>\n",
       "      <td>22.858571</td>\n",
       "      <td>38.93</td>\n",
       "      <td>13.73</td>\n",
       "      <td>NaN</td>\n",
       "      <td>moderate</td>\n",
       "      <td>NaN</td>\n",
       "      <td>0.0</td>\n",
       "      <td>0.0</td>\n",
       "      <td>1.0</td>\n",
       "      <td>0.0</td>\n",
       "    </tr>\n",
       "    <tr>\n",
       "      <th>1</th>\n",
       "      <td>1.0</td>\n",
       "      <td>536.0</td>\n",
       "      <td>YOUNGSTOWN</td>\n",
       "      <td>5/8/2015</td>\n",
       "      <td>77.630000</td>\n",
       "      <td>83.93</td>\n",
       "      <td>62.33</td>\n",
       "      <td>NaN</td>\n",
       "      <td>NaN</td>\n",
       "      <td>NaN</td>\n",
       "      <td>0.0</td>\n",
       "      <td>0.0</td>\n",
       "      <td>0.0</td>\n",
       "      <td>1.0</td>\n",
       "    </tr>\n",
       "    <tr>\n",
       "      <th>2</th>\n",
       "      <td>1.0</td>\n",
       "      <td>536.0</td>\n",
       "      <td>YOUNGSTOWN</td>\n",
       "      <td>2/9/2015</td>\n",
       "      <td>25.430000</td>\n",
       "      <td>26.33</td>\n",
       "      <td>24.53</td>\n",
       "      <td>NaN</td>\n",
       "      <td>mild</td>\n",
       "      <td>NaN</td>\n",
       "      <td>0.0</td>\n",
       "      <td>0.0</td>\n",
       "      <td>1.0</td>\n",
       "      <td>0.0</td>\n",
       "    </tr>\n",
       "    <tr>\n",
       "      <th>3</th>\n",
       "      <td>1.0</td>\n",
       "      <td>536.0</td>\n",
       "      <td>YOUNGSTOWN</td>\n",
       "      <td>3/7/2015</td>\n",
       "      <td>26.844285</td>\n",
       "      <td>35.33</td>\n",
       "      <td>17.33</td>\n",
       "      <td>NaN</td>\n",
       "      <td>NaN</td>\n",
       "      <td>mild</td>\n",
       "      <td>1.0</td>\n",
       "      <td>0.0</td>\n",
       "      <td>0.0</td>\n",
       "      <td>1.0</td>\n",
       "    </tr>\n",
       "    <tr>\n",
       "      <th>4</th>\n",
       "      <td>1.0</td>\n",
       "      <td>536.0</td>\n",
       "      <td>YOUNGSTOWN</td>\n",
       "      <td>2/10/2015</td>\n",
       "      <td>22.344285</td>\n",
       "      <td>28.13</td>\n",
       "      <td>17.33</td>\n",
       "      <td>NaN</td>\n",
       "      <td>NaN</td>\n",
       "      <td>mild</td>\n",
       "      <td>1.0</td>\n",
       "      <td>0.0</td>\n",
       "      <td>0.0</td>\n",
       "      <td>1.0</td>\n",
       "    </tr>\n",
       "  </tbody>\n",
       "</table>\n",
       "</div>"
      ],
      "text/plain": [
       "   rest_number  rest_dma_code                   rest_dma_desc    Date_TY  \\\n",
       "0          1.0          536.0  YOUNGSTOWN                       2/2/2015   \n",
       "1          1.0          536.0  YOUNGSTOWN                       5/8/2015   \n",
       "2          1.0          536.0  YOUNGSTOWN                       2/9/2015   \n",
       "3          1.0          536.0  YOUNGSTOWN                       3/7/2015   \n",
       "4          1.0          536.0  YOUNGSTOWN                      2/10/2015   \n",
       "\n",
       "    Temp_Avg  Temp_Max  Temp_Min Thunderstorm_bucket Rain_bucket Snow_bucket  \\\n",
       "0  22.858571     38.93     13.73                 NaN    moderate         NaN   \n",
       "1  77.630000     83.93     62.33                 NaN         NaN         NaN   \n",
       "2  25.430000     26.33     24.53                 NaN        mild         NaN   \n",
       "3  26.844285     35.33     17.33                 NaN         NaN        mild   \n",
       "4  22.344285     28.13     17.33                 NaN         NaN        mild   \n",
       "\n",
       "   snow  thunderstorm  rain  clear_weather  \n",
       "0   0.0           0.0   1.0            0.0  \n",
       "1   0.0           0.0   0.0            1.0  \n",
       "2   0.0           0.0   1.0            0.0  \n",
       "3   1.0           0.0   0.0            1.0  \n",
       "4   1.0           0.0   0.0            1.0  "
      ]
     },
     "execution_count": 52,
     "metadata": {},
     "output_type": "execute_result"
    }
   ],
   "source": [
    "weather = pd.concat([weather1, weather2, weather3, weather4]).dropna(how='all')\n",
    "weather.head()"
   ]
  },
  {
   "cell_type": "markdown",
   "metadata": {},
   "source": [
    "### Use for loop to convert all int_cols to int type"
   ]
  },
  {
   "cell_type": "code",
   "execution_count": 53,
   "metadata": {
    "ExecuteTime": {
     "end_time": "2020-09-05T15:00:31.688385Z",
     "start_time": "2020-09-05T15:00:31.685539Z"
    }
   },
   "outputs": [],
   "source": [
    "int_cols = ['rest_number', 'rest_dma_code', 'snow', 'thunderstorm', 'rain', 'clear_weather']"
   ]
  },
  {
   "cell_type": "code",
   "execution_count": 54,
   "metadata": {
    "ExecuteTime": {
     "end_time": "2020-09-05T15:00:33.599266Z",
     "start_time": "2020-09-05T15:00:33.002847Z"
    }
   },
   "outputs": [
    {
     "name": "stdout",
     "output_type": "stream",
     "text": [
      "<class 'pandas.core.frame.DataFrame'>\n",
      "Int64Index: 1645006 entries, 0 to 385701\n",
      "Data columns (total 14 columns):\n",
      " #   Column               Non-Null Count    Dtype  \n",
      "---  ------               --------------    -----  \n",
      " 0   rest_number          1645006 non-null  int64  \n",
      " 1   rest_dma_code        1645006 non-null  int64  \n",
      " 2   rest_dma_desc        1645006 non-null  object \n",
      " 3   Date_TY              1645006 non-null  object \n",
      " 4   Temp_Avg             1645006 non-null  float64\n",
      " 5   Temp_Max             1645006 non-null  float64\n",
      " 6   Temp_Min             1645006 non-null  float64\n",
      " 7   Thunderstorm_bucket  175039 non-null   object \n",
      " 8   Rain_bucket          675064 non-null   object \n",
      " 9   Snow_bucket          150291 non-null   object \n",
      " 10  snow                 1645006 non-null  int64  \n",
      " 11  thunderstorm         1645006 non-null  int64  \n",
      " 12  rain                 1645006 non-null  int64  \n",
      " 13  clear_weather        1645006 non-null  int64  \n",
      "dtypes: float64(3), int64(6), object(5)\n",
      "memory usage: 188.3+ MB\n"
     ]
    }
   ],
   "source": [
    "for x in int_cols:\n",
    "    weather[x] = weather[x].astype('int')\n",
    "weather.info()"
   ]
  },
  {
   "cell_type": "markdown",
   "metadata": {},
   "source": [
    "### Convert Date_TY column to DateTime"
   ]
  },
  {
   "cell_type": "code",
   "execution_count": 55,
   "metadata": {
    "ExecuteTime": {
     "end_time": "2020-09-05T15:14:52.075812Z",
     "start_time": "2020-09-05T15:13:03.915898Z"
    }
   },
   "outputs": [],
   "source": [
    "weather['Date_TY'] = pd.to_datetime(weather['Date_TY'])"
   ]
  },
  {
   "cell_type": "markdown",
   "metadata": {},
   "source": [
    "### Sort Values by rest_number and Date_TY"
   ]
  },
  {
   "cell_type": "code",
   "execution_count": 56,
   "metadata": {
    "ExecuteTime": {
     "end_time": "2020-09-05T15:14:53.190525Z",
     "start_time": "2020-09-05T15:14:52.532060Z"
    },
    "scrolled": true
   },
   "outputs": [],
   "source": [
    "weather = weather.sort_values(['rest_number', 'Date_TY'])"
   ]
  },
  {
   "cell_type": "markdown",
   "metadata": {},
   "source": [
    "## Combine Data Frames to One"
   ]
  },
  {
   "cell_type": "markdown",
   "metadata": {},
   "source": [
    "### Combine restaurant, arg_sales , competition"
   ]
  },
  {
   "cell_type": "code",
   "execution_count": 57,
   "metadata": {
    "ExecuteTime": {
     "end_time": "2020-09-05T15:16:13.850400Z",
     "start_time": "2020-09-05T15:16:13.663260Z"
    }
   },
   "outputs": [],
   "source": [
    "weekly_sales = arg_sales.groupby(['Rest_Number', 'Fiscal_Year','Fiscal_Week_Number']).agg({'Sales_TY':'sum'}).reset_index()"
   ]
  },
  {
   "cell_type": "code",
   "execution_count": 58,
   "metadata": {
    "ExecuteTime": {
     "end_time": "2020-09-05T15:16:21.668459Z",
     "start_time": "2020-09-05T15:16:21.167611Z"
    }
   },
   "outputs": [],
   "source": [
    "modeling_df = arg_sales.merge(weekly_sales, how='right', left_on=['Rest_Number', 'Fiscal_Year', 'Fiscal_Week_Number'], \n",
    "                right_on = ['Rest_Number', 'Fiscal_Year', 'Fiscal_Week_Number']).drop_duplicates('Sales_TY_y', \n",
    "                                                                                                 keep= 'first')\n",
    "modeling_df = modeling_df.reset_index().drop(columns = ['index', 'Days_Date','Sales_TY_x'])"
   ]
  },
  {
   "cell_type": "code",
   "execution_count": 59,
   "metadata": {
    "ExecuteTime": {
     "end_time": "2020-09-05T15:16:45.159394Z",
     "start_time": "2020-09-05T15:16:45.068902Z"
    }
   },
   "outputs": [],
   "source": [
    "modeling_df = modeling_df.merge(restaurant, how = 'left', left_on= 'Rest_Number', \n",
    "                                right_on= 'REST_NUMBER').drop(columns = ['REST_NUMBER'])"
   ]
  },
  {
   "cell_type": "code",
   "execution_count": 60,
   "metadata": {
    "ExecuteTime": {
     "end_time": "2020-09-05T15:16:45.773173Z",
     "start_time": "2020-09-05T15:16:45.667317Z"
    }
   },
   "outputs": [],
   "source": [
    "modeling_df = modeling_df.merge(competition, how='left', left_on='Rest_Number', \n",
    "                                right_on='Store #').drop(columns = 'Store #')"
   ]
  },
  {
   "cell_type": "code",
   "execution_count": 61,
   "metadata": {
    "ExecuteTime": {
     "end_time": "2020-09-05T15:16:49.321521Z",
     "start_time": "2020-09-05T15:16:49.293746Z"
    }
   },
   "outputs": [],
   "source": [
    "modeling_df = modeling_df.rename(columns = {'Sales_TY_y':'Sum Total Sales'})"
   ]
  },
  {
   "cell_type": "markdown",
   "metadata": {},
   "source": [
    "### Add tv_media "
   ]
  },
  {
   "cell_type": "code",
   "execution_count": 62,
   "metadata": {
    "ExecuteTime": {
     "end_time": "2020-09-05T15:16:57.671537Z",
     "start_time": "2020-09-05T15:16:57.572084Z"
    }
   },
   "outputs": [],
   "source": [
    "modeling_df = modeling_df.merge(tv_media, how = 'left', left_on = ['Rest_DMA_Code','Fiscal_Year', 'Fiscal_Week_Number'], \n",
    "                 right_on= ['rest_dma_code','fiscal_year','fiscal_week_number'])"
   ]
  },
  {
   "cell_type": "markdown",
   "metadata": {},
   "source": [
    "### Add print_media"
   ]
  },
  {
   "cell_type": "code",
   "execution_count": 63,
   "metadata": {
    "ExecuteTime": {
     "end_time": "2020-09-05T15:17:01.380824Z",
     "start_time": "2020-09-05T15:17:01.287863Z"
    }
   },
   "outputs": [],
   "source": [
    "modeling_df = modeling_df.merge(print_media, how = 'left', left_on=['Rest_Number', 'Fiscal_Year', 'Fiscal_Week_Number'],\n",
    "                 right_on = ['rest_number','fiscal_year', 'fiscal_week_number'])"
   ]
  },
  {
   "cell_type": "code",
   "execution_count": 64,
   "metadata": {
    "ExecuteTime": {
     "end_time": "2020-09-05T15:17:15.436945Z",
     "start_time": "2020-09-05T15:17:15.351381Z"
    }
   },
   "outputs": [],
   "source": [
    "modeling_df = modeling_df[['Rest_Number',\n",
    " 'Rest_DMA_Code',\n",
    " 'Rest_DMA_Desc',\n",
    " 'Fiscal_Year',\n",
    " 'Fiscal_Week_Number',\n",
    " 'Sum Total Sales',\n",
    " 'REST_STATUS',\n",
    " 'REST_ADDRSTATE',\n",
    " 'REST_REMODELDT',\n",
    " 'REST_OPENDATE',\n",
    " 'REST_CLOSEDATE',\n",
    " '# of McDonalds <1 mi',\n",
    " '# of Subway <1 mi',\n",
    " '# of Wendys <1 mi',\n",
    " '# of Burger King <1 mi',\n",
    " '# of Taco Bell <1 mi',\n",
    " 'sum_of_competitors',\n",
    " 'OnAir_TY',\n",
    " 'Equal_TRPS_CM_TY',\n",
    " 'drop_date']]"
   ]
  },
  {
   "cell_type": "code",
   "execution_count": 65,
   "metadata": {
    "ExecuteTime": {
     "end_time": "2020-09-05T15:17:16.422954Z",
     "start_time": "2020-09-05T15:17:16.394635Z"
    }
   },
   "outputs": [
    {
     "data": {
      "text/html": [
       "<div>\n",
       "<style scoped>\n",
       "    .dataframe tbody tr th:only-of-type {\n",
       "        vertical-align: middle;\n",
       "    }\n",
       "\n",
       "    .dataframe tbody tr th {\n",
       "        vertical-align: top;\n",
       "    }\n",
       "\n",
       "    .dataframe thead th {\n",
       "        text-align: right;\n",
       "    }\n",
       "</style>\n",
       "<table border=\"1\" class=\"dataframe\">\n",
       "  <thead>\n",
       "    <tr style=\"text-align: right;\">\n",
       "      <th></th>\n",
       "      <th>Rest_Number</th>\n",
       "      <th>Rest_DMA_Code</th>\n",
       "      <th>Rest_DMA_Desc</th>\n",
       "      <th>Fiscal_Year</th>\n",
       "      <th>Fiscal_Week_Number</th>\n",
       "      <th>Sum Total Sales</th>\n",
       "      <th>REST_STATUS</th>\n",
       "      <th>REST_ADDRSTATE</th>\n",
       "      <th>REST_REMODELDT</th>\n",
       "      <th>REST_OPENDATE</th>\n",
       "      <th>REST_CLOSEDATE</th>\n",
       "      <th># of McDonalds &lt;1 mi</th>\n",
       "      <th># of Subway &lt;1 mi</th>\n",
       "      <th># of Wendys &lt;1 mi</th>\n",
       "      <th># of Burger King &lt;1 mi</th>\n",
       "      <th># of Taco Bell &lt;1 mi</th>\n",
       "      <th>sum_of_competitors</th>\n",
       "      <th>OnAir_TY</th>\n",
       "      <th>Equal_TRPS_CM_TY</th>\n",
       "      <th>drop_date</th>\n",
       "    </tr>\n",
       "  </thead>\n",
       "  <tbody>\n",
       "    <tr>\n",
       "      <th>0</th>\n",
       "      <td>1</td>\n",
       "      <td>536</td>\n",
       "      <td>YOUNGSTOWN</td>\n",
       "      <td>2015</td>\n",
       "      <td>1</td>\n",
       "      <td>14808.43</td>\n",
       "      <td>Open</td>\n",
       "      <td>OH</td>\n",
       "      <td>2016-11-28</td>\n",
       "      <td>1964-07-23</td>\n",
       "      <td>1753-01-01</td>\n",
       "      <td>1.0</td>\n",
       "      <td>1.0</td>\n",
       "      <td>0.0</td>\n",
       "      <td>0.0</td>\n",
       "      <td>1.0</td>\n",
       "      <td>3.0</td>\n",
       "      <td>0.0</td>\n",
       "      <td>0.0</td>\n",
       "      <td>NaT</td>\n",
       "    </tr>\n",
       "    <tr>\n",
       "      <th>1</th>\n",
       "      <td>1</td>\n",
       "      <td>536</td>\n",
       "      <td>YOUNGSTOWN</td>\n",
       "      <td>2015</td>\n",
       "      <td>2</td>\n",
       "      <td>11590.93</td>\n",
       "      <td>Open</td>\n",
       "      <td>OH</td>\n",
       "      <td>2016-11-28</td>\n",
       "      <td>1964-07-23</td>\n",
       "      <td>1753-01-01</td>\n",
       "      <td>1.0</td>\n",
       "      <td>1.0</td>\n",
       "      <td>0.0</td>\n",
       "      <td>0.0</td>\n",
       "      <td>1.0</td>\n",
       "      <td>3.0</td>\n",
       "      <td>0.0</td>\n",
       "      <td>0.0</td>\n",
       "      <td>NaT</td>\n",
       "    </tr>\n",
       "    <tr>\n",
       "      <th>2</th>\n",
       "      <td>1</td>\n",
       "      <td>536</td>\n",
       "      <td>YOUNGSTOWN</td>\n",
       "      <td>2015</td>\n",
       "      <td>3</td>\n",
       "      <td>13627.44</td>\n",
       "      <td>Open</td>\n",
       "      <td>OH</td>\n",
       "      <td>2016-11-28</td>\n",
       "      <td>1964-07-23</td>\n",
       "      <td>1753-01-01</td>\n",
       "      <td>1.0</td>\n",
       "      <td>1.0</td>\n",
       "      <td>0.0</td>\n",
       "      <td>0.0</td>\n",
       "      <td>1.0</td>\n",
       "      <td>3.0</td>\n",
       "      <td>0.0</td>\n",
       "      <td>0.0</td>\n",
       "      <td>NaT</td>\n",
       "    </tr>\n",
       "    <tr>\n",
       "      <th>3</th>\n",
       "      <td>1</td>\n",
       "      <td>536</td>\n",
       "      <td>YOUNGSTOWN</td>\n",
       "      <td>2015</td>\n",
       "      <td>4</td>\n",
       "      <td>15834.42</td>\n",
       "      <td>Open</td>\n",
       "      <td>OH</td>\n",
       "      <td>2016-11-28</td>\n",
       "      <td>1964-07-23</td>\n",
       "      <td>1753-01-01</td>\n",
       "      <td>1.0</td>\n",
       "      <td>1.0</td>\n",
       "      <td>0.0</td>\n",
       "      <td>0.0</td>\n",
       "      <td>1.0</td>\n",
       "      <td>3.0</td>\n",
       "      <td>1.0</td>\n",
       "      <td>41.3</td>\n",
       "      <td>NaT</td>\n",
       "    </tr>\n",
       "    <tr>\n",
       "      <th>4</th>\n",
       "      <td>1</td>\n",
       "      <td>536</td>\n",
       "      <td>YOUNGSTOWN</td>\n",
       "      <td>2015</td>\n",
       "      <td>5</td>\n",
       "      <td>17747.08</td>\n",
       "      <td>Open</td>\n",
       "      <td>OH</td>\n",
       "      <td>2016-11-28</td>\n",
       "      <td>1964-07-23</td>\n",
       "      <td>1753-01-01</td>\n",
       "      <td>1.0</td>\n",
       "      <td>1.0</td>\n",
       "      <td>0.0</td>\n",
       "      <td>0.0</td>\n",
       "      <td>1.0</td>\n",
       "      <td>3.0</td>\n",
       "      <td>1.0</td>\n",
       "      <td>123.8</td>\n",
       "      <td>2015-01-27</td>\n",
       "    </tr>\n",
       "  </tbody>\n",
       "</table>\n",
       "</div>"
      ],
      "text/plain": [
       "   Rest_Number  Rest_DMA_Code                   Rest_DMA_Desc  Fiscal_Year  \\\n",
       "0            1            536  YOUNGSTOWN                             2015   \n",
       "1            1            536  YOUNGSTOWN                             2015   \n",
       "2            1            536  YOUNGSTOWN                             2015   \n",
       "3            1            536  YOUNGSTOWN                             2015   \n",
       "4            1            536  YOUNGSTOWN                             2015   \n",
       "\n",
       "   Fiscal_Week_Number  Sum Total Sales REST_STATUS REST_ADDRSTATE  \\\n",
       "0                   1         14808.43        Open             OH   \n",
       "1                   2         11590.93        Open             OH   \n",
       "2                   3         13627.44        Open             OH   \n",
       "3                   4         15834.42        Open             OH   \n",
       "4                   5         17747.08        Open             OH   \n",
       "\n",
       "  REST_REMODELDT REST_OPENDATE REST_CLOSEDATE  # of McDonalds <1 mi  \\\n",
       "0     2016-11-28    1964-07-23     1753-01-01                   1.0   \n",
       "1     2016-11-28    1964-07-23     1753-01-01                   1.0   \n",
       "2     2016-11-28    1964-07-23     1753-01-01                   1.0   \n",
       "3     2016-11-28    1964-07-23     1753-01-01                   1.0   \n",
       "4     2016-11-28    1964-07-23     1753-01-01                   1.0   \n",
       "\n",
       "   # of Subway <1 mi  # of Wendys <1 mi  # of Burger King <1 mi  \\\n",
       "0                1.0                0.0                     0.0   \n",
       "1                1.0                0.0                     0.0   \n",
       "2                1.0                0.0                     0.0   \n",
       "3                1.0                0.0                     0.0   \n",
       "4                1.0                0.0                     0.0   \n",
       "\n",
       "   # of Taco Bell <1 mi  sum_of_competitors  OnAir_TY  Equal_TRPS_CM_TY  \\\n",
       "0                   1.0                 3.0       0.0               0.0   \n",
       "1                   1.0                 3.0       0.0               0.0   \n",
       "2                   1.0                 3.0       0.0               0.0   \n",
       "3                   1.0                 3.0       1.0              41.3   \n",
       "4                   1.0                 3.0       1.0             123.8   \n",
       "\n",
       "   drop_date  \n",
       "0        NaT  \n",
       "1        NaT  \n",
       "2        NaT  \n",
       "3        NaT  \n",
       "4 2015-01-27  "
      ]
     },
     "execution_count": 65,
     "metadata": {},
     "output_type": "execute_result"
    }
   ],
   "source": [
    "modeling_df.head()"
   ]
  },
  {
   "cell_type": "code",
   "execution_count": 66,
   "metadata": {
    "ExecuteTime": {
     "end_time": "2020-09-05T15:17:28.943419Z",
     "start_time": "2020-09-05T15:17:28.891291Z"
    }
   },
   "outputs": [],
   "source": [
    "int_cols = ['# of McDonalds <1 mi',\n",
    " '# of Subway <1 mi',\n",
    " '# of Wendys <1 mi',\n",
    " '# of Burger King <1 mi',\n",
    " '# of Taco Bell <1 mi',\n",
    " '# of McDonalds <0.5 mi',\n",
    " '# of Subway <0.5 mi',\n",
    " '# of Wendys <0.5 mi',\n",
    " '# of Burger King <0.5 mi',\n",
    " '# of Taco Bell <0.5 mi',\n",
    " 'sum_of_competitors',\n",
    " 'OnAir_TY',\n",
    " 'Equal_TRPS_CM_TY']\n",
    "for x in int_cols:\n",
    "    try:\n",
    "        modeling_df[x] = modeling_df[x].fillna(0.0)\n",
    "    except: \n",
    "        continue\n",
    "    try:\n",
    "        modeling_df[x] = modeling_df[x].astype('int')\n",
    "    except:\n",
    "        continue"
   ]
  },
  {
   "cell_type": "code",
   "execution_count": 67,
   "metadata": {
    "ExecuteTime": {
     "end_time": "2020-09-05T15:17:39.647291Z",
     "start_time": "2020-09-05T15:17:39.595199Z"
    },
    "scrolled": true
   },
   "outputs": [],
   "source": [
    "modeling_df = modeling_df.rename(columns = {'drop_date':'print_media_drop_date'})"
   ]
  },
  {
   "cell_type": "code",
   "execution_count": 68,
   "metadata": {
    "ExecuteTime": {
     "end_time": "2020-09-05T15:19:20.433009Z",
     "start_time": "2020-09-05T15:19:20.393083Z"
    }
   },
   "outputs": [],
   "source": [
    "modeling_df = modeling_df.loc[modeling_df['REST_STATUS'] == 'Open']"
   ]
  },
  {
   "cell_type": "code",
   "execution_count": 69,
   "metadata": {
    "ExecuteTime": {
     "end_time": "2020-09-05T15:19:21.275180Z",
     "start_time": "2020-09-05T15:19:20.997026Z"
    }
   },
   "outputs": [
    {
     "data": {
      "text/html": [
       "<div>\n",
       "<style scoped>\n",
       "    .dataframe tbody tr th:only-of-type {\n",
       "        vertical-align: middle;\n",
       "    }\n",
       "\n",
       "    .dataframe tbody tr th {\n",
       "        vertical-align: top;\n",
       "    }\n",
       "\n",
       "    .dataframe thead th {\n",
       "        text-align: right;\n",
       "    }\n",
       "</style>\n",
       "<table border=\"1\" class=\"dataframe\">\n",
       "  <thead>\n",
       "    <tr style=\"text-align: right;\">\n",
       "      <th></th>\n",
       "      <th>Rest_Number</th>\n",
       "      <th>Rest_DMA_Code</th>\n",
       "      <th>Rest_DMA_Desc</th>\n",
       "      <th>Fiscal_Year</th>\n",
       "      <th>Fiscal_Week_Number</th>\n",
       "      <th>Days_Date</th>\n",
       "      <th>Sales_TY</th>\n",
       "    </tr>\n",
       "  </thead>\n",
       "  <tbody>\n",
       "    <tr>\n",
       "      <th>785505</th>\n",
       "      <td>9002</td>\n",
       "      <td>524</td>\n",
       "      <td>ATLANTA</td>\n",
       "      <td>2018</td>\n",
       "      <td>52</td>\n",
       "      <td>2018-12-30</td>\n",
       "      <td>2508.64</td>\n",
       "    </tr>\n",
       "    <tr>\n",
       "      <th>534221</th>\n",
       "      <td>6949</td>\n",
       "      <td>613</td>\n",
       "      <td>MINNEAPOLIS-ST. PAUL</td>\n",
       "      <td>2018</td>\n",
       "      <td>52</td>\n",
       "      <td>2018-12-30</td>\n",
       "      <td>1878.49</td>\n",
       "    </tr>\n",
       "    <tr>\n",
       "      <th>538576</th>\n",
       "      <td>6976</td>\n",
       "      <td>524</td>\n",
       "      <td>ATLANTA</td>\n",
       "      <td>2018</td>\n",
       "      <td>52</td>\n",
       "      <td>2018-12-30</td>\n",
       "      <td>3913.39</td>\n",
       "    </tr>\n",
       "    <tr>\n",
       "      <th>537851</th>\n",
       "      <td>6975</td>\n",
       "      <td>535</td>\n",
       "      <td>COLUMBUS, OH</td>\n",
       "      <td>2018</td>\n",
       "      <td>52</td>\n",
       "      <td>2018-12-30</td>\n",
       "      <td>2963.58</td>\n",
       "    </tr>\n",
       "    <tr>\n",
       "      <th>93347</th>\n",
       "      <td>567</td>\n",
       "      <td>557</td>\n",
       "      <td>KNOXVILLE</td>\n",
       "      <td>2018</td>\n",
       "      <td>52</td>\n",
       "      <td>2018-12-30</td>\n",
       "      <td>4317.43</td>\n",
       "    </tr>\n",
       "    <tr>\n",
       "      <th>...</th>\n",
       "      <td>...</td>\n",
       "      <td>...</td>\n",
       "      <td>...</td>\n",
       "      <td>...</td>\n",
       "      <td>...</td>\n",
       "      <td>...</td>\n",
       "      <td>...</td>\n",
       "    </tr>\n",
       "    <tr>\n",
       "      <th>583165</th>\n",
       "      <td>7476</td>\n",
       "      <td>613</td>\n",
       "      <td>MINNEAPOLIS-ST. PAUL</td>\n",
       "      <td>2015</td>\n",
       "      <td>1</td>\n",
       "      <td>2014-12-29</td>\n",
       "      <td>2062.00</td>\n",
       "    </tr>\n",
       "    <tr>\n",
       "      <th>116413</th>\n",
       "      <td>826</td>\n",
       "      <td>535</td>\n",
       "      <td>COLUMBUS, OH</td>\n",
       "      <td>2015</td>\n",
       "      <td>1</td>\n",
       "      <td>2014-12-29</td>\n",
       "      <td>1711.40</td>\n",
       "    </tr>\n",
       "    <tr>\n",
       "      <th>582433</th>\n",
       "      <td>7475</td>\n",
       "      <td>613</td>\n",
       "      <td>MINNEAPOLIS-ST. PAUL</td>\n",
       "      <td>2015</td>\n",
       "      <td>1</td>\n",
       "      <td>2014-12-29</td>\n",
       "      <td>3769.49</td>\n",
       "    </tr>\n",
       "    <tr>\n",
       "      <th>117145</th>\n",
       "      <td>828</td>\n",
       "      <td>510</td>\n",
       "      <td>CLEVELAND-AKRON</td>\n",
       "      <td>2015</td>\n",
       "      <td>1</td>\n",
       "      <td>2014-12-29</td>\n",
       "      <td>4910.36</td>\n",
       "    </tr>\n",
       "    <tr>\n",
       "      <th>0</th>\n",
       "      <td>1</td>\n",
       "      <td>536</td>\n",
       "      <td>YOUNGSTOWN</td>\n",
       "      <td>2015</td>\n",
       "      <td>1</td>\n",
       "      <td>2014-12-29</td>\n",
       "      <td>2600.03</td>\n",
       "    </tr>\n",
       "  </tbody>\n",
       "</table>\n",
       "<p>1495669 rows × 7 columns</p>\n",
       "</div>"
      ],
      "text/plain": [
       "        Rest_Number  Rest_DMA_Code                   Rest_DMA_Desc  \\\n",
       "785505         9002            524  ATLANTA                          \n",
       "534221         6949            613  MINNEAPOLIS-ST. PAUL             \n",
       "538576         6976            524  ATLANTA                          \n",
       "537851         6975            535  COLUMBUS, OH                     \n",
       "93347           567            557  KNOXVILLE                        \n",
       "...             ...            ...                             ...   \n",
       "583165         7476            613  MINNEAPOLIS-ST. PAUL             \n",
       "116413          826            535  COLUMBUS, OH                     \n",
       "582433         7475            613  MINNEAPOLIS-ST. PAUL             \n",
       "117145          828            510  CLEVELAND-AKRON                  \n",
       "0                 1            536  YOUNGSTOWN                       \n",
       "\n",
       "        Fiscal_Year  Fiscal_Week_Number  Days_Date  Sales_TY  \n",
       "785505         2018                  52 2018-12-30   2508.64  \n",
       "534221         2018                  52 2018-12-30   1878.49  \n",
       "538576         2018                  52 2018-12-30   3913.39  \n",
       "537851         2018                  52 2018-12-30   2963.58  \n",
       "93347          2018                  52 2018-12-30   4317.43  \n",
       "...             ...                 ...        ...       ...  \n",
       "583165         2015                   1 2014-12-29   2062.00  \n",
       "116413         2015                   1 2014-12-29   1711.40  \n",
       "582433         2015                   1 2014-12-29   3769.49  \n",
       "117145         2015                   1 2014-12-29   4910.36  \n",
       "0              2015                   1 2014-12-29   2600.03  \n",
       "\n",
       "[1495669 rows x 7 columns]"
      ]
     },
     "execution_count": 69,
     "metadata": {},
     "output_type": "execute_result"
    }
   ],
   "source": [
    "arg_sales.sort_values('Days_Date', ascending = False)"
   ]
  },
  {
   "cell_type": "code",
   "execution_count": 70,
   "metadata": {
    "ExecuteTime": {
     "end_time": "2020-09-05T15:19:22.065910Z",
     "start_time": "2020-09-05T15:19:21.833083Z"
    }
   },
   "outputs": [],
   "source": [
    "for x in list(modeling_df.columns):\n",
    "    modeling_df.rename(columns = {x : x.lower()}, inplace=True)"
   ]
  },
  {
   "cell_type": "code",
   "execution_count": 71,
   "metadata": {
    "ExecuteTime": {
     "end_time": "2020-09-05T15:21:02.145150Z",
     "start_time": "2020-09-05T15:21:02.122250Z"
    }
   },
   "outputs": [],
   "source": [
    "modeling_df = modeling_df.loc[modeling_df['fiscal_year'] != 0]"
   ]
  },
  {
   "cell_type": "code",
   "execution_count": 72,
   "metadata": {
    "ExecuteTime": {
     "end_time": "2020-09-05T15:21:09.292696Z",
     "start_time": "2020-09-05T15:21:09.261326Z"
    }
   },
   "outputs": [
    {
     "data": {
      "text/html": [
       "<div>\n",
       "<style scoped>\n",
       "    .dataframe tbody tr th:only-of-type {\n",
       "        vertical-align: middle;\n",
       "    }\n",
       "\n",
       "    .dataframe tbody tr th {\n",
       "        vertical-align: top;\n",
       "    }\n",
       "\n",
       "    .dataframe thead th {\n",
       "        text-align: right;\n",
       "    }\n",
       "</style>\n",
       "<table border=\"1\" class=\"dataframe\">\n",
       "  <thead>\n",
       "    <tr style=\"text-align: right;\">\n",
       "      <th></th>\n",
       "      <th>rest_number</th>\n",
       "      <th>rest_dma_code</th>\n",
       "      <th>rest_dma_desc</th>\n",
       "      <th>fiscal_year</th>\n",
       "      <th>fiscal_week_number</th>\n",
       "      <th>sum total sales</th>\n",
       "      <th>rest_status</th>\n",
       "      <th>rest_addrstate</th>\n",
       "      <th>rest_remodeldt</th>\n",
       "      <th>rest_opendate</th>\n",
       "      <th>rest_closedate</th>\n",
       "      <th># of mcdonalds &lt;1 mi</th>\n",
       "      <th># of subway &lt;1 mi</th>\n",
       "      <th># of wendys &lt;1 mi</th>\n",
       "      <th># of burger king &lt;1 mi</th>\n",
       "      <th># of taco bell &lt;1 mi</th>\n",
       "      <th>sum_of_competitors</th>\n",
       "      <th>onair_ty</th>\n",
       "      <th>equal_trps_cm_ty</th>\n",
       "      <th>print_media_drop_date</th>\n",
       "    </tr>\n",
       "  </thead>\n",
       "  <tbody>\n",
       "    <tr>\n",
       "      <th>0</th>\n",
       "      <td>1</td>\n",
       "      <td>536</td>\n",
       "      <td>YOUNGSTOWN</td>\n",
       "      <td>2015</td>\n",
       "      <td>1</td>\n",
       "      <td>14808.43</td>\n",
       "      <td>Open</td>\n",
       "      <td>OH</td>\n",
       "      <td>2016-11-28</td>\n",
       "      <td>1964-07-23</td>\n",
       "      <td>1753-01-01</td>\n",
       "      <td>1</td>\n",
       "      <td>1</td>\n",
       "      <td>0</td>\n",
       "      <td>0</td>\n",
       "      <td>1</td>\n",
       "      <td>3</td>\n",
       "      <td>0</td>\n",
       "      <td>0</td>\n",
       "      <td>NaT</td>\n",
       "    </tr>\n",
       "    <tr>\n",
       "      <th>1</th>\n",
       "      <td>1</td>\n",
       "      <td>536</td>\n",
       "      <td>YOUNGSTOWN</td>\n",
       "      <td>2015</td>\n",
       "      <td>2</td>\n",
       "      <td>11590.93</td>\n",
       "      <td>Open</td>\n",
       "      <td>OH</td>\n",
       "      <td>2016-11-28</td>\n",
       "      <td>1964-07-23</td>\n",
       "      <td>1753-01-01</td>\n",
       "      <td>1</td>\n",
       "      <td>1</td>\n",
       "      <td>0</td>\n",
       "      <td>0</td>\n",
       "      <td>1</td>\n",
       "      <td>3</td>\n",
       "      <td>0</td>\n",
       "      <td>0</td>\n",
       "      <td>NaT</td>\n",
       "    </tr>\n",
       "    <tr>\n",
       "      <th>2</th>\n",
       "      <td>1</td>\n",
       "      <td>536</td>\n",
       "      <td>YOUNGSTOWN</td>\n",
       "      <td>2015</td>\n",
       "      <td>3</td>\n",
       "      <td>13627.44</td>\n",
       "      <td>Open</td>\n",
       "      <td>OH</td>\n",
       "      <td>2016-11-28</td>\n",
       "      <td>1964-07-23</td>\n",
       "      <td>1753-01-01</td>\n",
       "      <td>1</td>\n",
       "      <td>1</td>\n",
       "      <td>0</td>\n",
       "      <td>0</td>\n",
       "      <td>1</td>\n",
       "      <td>3</td>\n",
       "      <td>0</td>\n",
       "      <td>0</td>\n",
       "      <td>NaT</td>\n",
       "    </tr>\n",
       "    <tr>\n",
       "      <th>3</th>\n",
       "      <td>1</td>\n",
       "      <td>536</td>\n",
       "      <td>YOUNGSTOWN</td>\n",
       "      <td>2015</td>\n",
       "      <td>4</td>\n",
       "      <td>15834.42</td>\n",
       "      <td>Open</td>\n",
       "      <td>OH</td>\n",
       "      <td>2016-11-28</td>\n",
       "      <td>1964-07-23</td>\n",
       "      <td>1753-01-01</td>\n",
       "      <td>1</td>\n",
       "      <td>1</td>\n",
       "      <td>0</td>\n",
       "      <td>0</td>\n",
       "      <td>1</td>\n",
       "      <td>3</td>\n",
       "      <td>1</td>\n",
       "      <td>41</td>\n",
       "      <td>NaT</td>\n",
       "    </tr>\n",
       "    <tr>\n",
       "      <th>4</th>\n",
       "      <td>1</td>\n",
       "      <td>536</td>\n",
       "      <td>YOUNGSTOWN</td>\n",
       "      <td>2015</td>\n",
       "      <td>5</td>\n",
       "      <td>17747.08</td>\n",
       "      <td>Open</td>\n",
       "      <td>OH</td>\n",
       "      <td>2016-11-28</td>\n",
       "      <td>1964-07-23</td>\n",
       "      <td>1753-01-01</td>\n",
       "      <td>1</td>\n",
       "      <td>1</td>\n",
       "      <td>0</td>\n",
       "      <td>0</td>\n",
       "      <td>1</td>\n",
       "      <td>3</td>\n",
       "      <td>1</td>\n",
       "      <td>123</td>\n",
       "      <td>2015-01-27</td>\n",
       "    </tr>\n",
       "    <tr>\n",
       "      <th>...</th>\n",
       "      <td>...</td>\n",
       "      <td>...</td>\n",
       "      <td>...</td>\n",
       "      <td>...</td>\n",
       "      <td>...</td>\n",
       "      <td>...</td>\n",
       "      <td>...</td>\n",
       "      <td>...</td>\n",
       "      <td>...</td>\n",
       "      <td>...</td>\n",
       "      <td>...</td>\n",
       "      <td>...</td>\n",
       "      <td>...</td>\n",
       "      <td>...</td>\n",
       "      <td>...</td>\n",
       "      <td>...</td>\n",
       "      <td>...</td>\n",
       "      <td>...</td>\n",
       "      <td>...</td>\n",
       "      <td>...</td>\n",
       "    </tr>\n",
       "    <tr>\n",
       "      <th>208767</th>\n",
       "      <td>9002</td>\n",
       "      <td>524</td>\n",
       "      <td>ATLANTA</td>\n",
       "      <td>2018</td>\n",
       "      <td>48</td>\n",
       "      <td>21777.43</td>\n",
       "      <td>Open</td>\n",
       "      <td>GA</td>\n",
       "      <td>1753-01-01</td>\n",
       "      <td>2006-07-06</td>\n",
       "      <td>1753-01-01</td>\n",
       "      <td>1</td>\n",
       "      <td>2</td>\n",
       "      <td>0</td>\n",
       "      <td>0</td>\n",
       "      <td>0</td>\n",
       "      <td>3</td>\n",
       "      <td>0</td>\n",
       "      <td>26</td>\n",
       "      <td>2018-11-27</td>\n",
       "    </tr>\n",
       "    <tr>\n",
       "      <th>208768</th>\n",
       "      <td>9002</td>\n",
       "      <td>524</td>\n",
       "      <td>ATLANTA</td>\n",
       "      <td>2018</td>\n",
       "      <td>49</td>\n",
       "      <td>22758.79</td>\n",
       "      <td>Open</td>\n",
       "      <td>GA</td>\n",
       "      <td>1753-01-01</td>\n",
       "      <td>2006-07-06</td>\n",
       "      <td>1753-01-01</td>\n",
       "      <td>1</td>\n",
       "      <td>2</td>\n",
       "      <td>0</td>\n",
       "      <td>0</td>\n",
       "      <td>0</td>\n",
       "      <td>3</td>\n",
       "      <td>0</td>\n",
       "      <td>9</td>\n",
       "      <td>NaT</td>\n",
       "    </tr>\n",
       "    <tr>\n",
       "      <th>208769</th>\n",
       "      <td>9002</td>\n",
       "      <td>524</td>\n",
       "      <td>ATLANTA</td>\n",
       "      <td>2018</td>\n",
       "      <td>50</td>\n",
       "      <td>21990.28</td>\n",
       "      <td>Open</td>\n",
       "      <td>GA</td>\n",
       "      <td>1753-01-01</td>\n",
       "      <td>2006-07-06</td>\n",
       "      <td>1753-01-01</td>\n",
       "      <td>1</td>\n",
       "      <td>2</td>\n",
       "      <td>0</td>\n",
       "      <td>0</td>\n",
       "      <td>0</td>\n",
       "      <td>3</td>\n",
       "      <td>0</td>\n",
       "      <td>0</td>\n",
       "      <td>NaT</td>\n",
       "    </tr>\n",
       "    <tr>\n",
       "      <th>208770</th>\n",
       "      <td>9002</td>\n",
       "      <td>524</td>\n",
       "      <td>ATLANTA</td>\n",
       "      <td>2018</td>\n",
       "      <td>51</td>\n",
       "      <td>21613.24</td>\n",
       "      <td>Open</td>\n",
       "      <td>GA</td>\n",
       "      <td>1753-01-01</td>\n",
       "      <td>2006-07-06</td>\n",
       "      <td>1753-01-01</td>\n",
       "      <td>1</td>\n",
       "      <td>2</td>\n",
       "      <td>0</td>\n",
       "      <td>0</td>\n",
       "      <td>0</td>\n",
       "      <td>3</td>\n",
       "      <td>0</td>\n",
       "      <td>8</td>\n",
       "      <td>NaT</td>\n",
       "    </tr>\n",
       "    <tr>\n",
       "      <th>208771</th>\n",
       "      <td>9002</td>\n",
       "      <td>524</td>\n",
       "      <td>ATLANTA</td>\n",
       "      <td>2018</td>\n",
       "      <td>52</td>\n",
       "      <td>14603.37</td>\n",
       "      <td>Open</td>\n",
       "      <td>GA</td>\n",
       "      <td>1753-01-01</td>\n",
       "      <td>2006-07-06</td>\n",
       "      <td>1753-01-01</td>\n",
       "      <td>1</td>\n",
       "      <td>2</td>\n",
       "      <td>0</td>\n",
       "      <td>0</td>\n",
       "      <td>0</td>\n",
       "      <td>3</td>\n",
       "      <td>1</td>\n",
       "      <td>27</td>\n",
       "      <td>NaT</td>\n",
       "    </tr>\n",
       "  </tbody>\n",
       "</table>\n",
       "<p>205059 rows × 20 columns</p>\n",
       "</div>"
      ],
      "text/plain": [
       "        rest_number  rest_dma_code                   rest_dma_desc  \\\n",
       "0                 1            536  YOUNGSTOWN                       \n",
       "1                 1            536  YOUNGSTOWN                       \n",
       "2                 1            536  YOUNGSTOWN                       \n",
       "3                 1            536  YOUNGSTOWN                       \n",
       "4                 1            536  YOUNGSTOWN                       \n",
       "...             ...            ...                             ...   \n",
       "208767         9002            524  ATLANTA                          \n",
       "208768         9002            524  ATLANTA                          \n",
       "208769         9002            524  ATLANTA                          \n",
       "208770         9002            524  ATLANTA                          \n",
       "208771         9002            524  ATLANTA                          \n",
       "\n",
       "        fiscal_year  fiscal_week_number  sum total sales rest_status  \\\n",
       "0              2015                   1         14808.43        Open   \n",
       "1              2015                   2         11590.93        Open   \n",
       "2              2015                   3         13627.44        Open   \n",
       "3              2015                   4         15834.42        Open   \n",
       "4              2015                   5         17747.08        Open   \n",
       "...             ...                 ...              ...         ...   \n",
       "208767         2018                  48         21777.43        Open   \n",
       "208768         2018                  49         22758.79        Open   \n",
       "208769         2018                  50         21990.28        Open   \n",
       "208770         2018                  51         21613.24        Open   \n",
       "208771         2018                  52         14603.37        Open   \n",
       "\n",
       "       rest_addrstate rest_remodeldt rest_opendate rest_closedate  \\\n",
       "0                  OH     2016-11-28    1964-07-23     1753-01-01   \n",
       "1                  OH     2016-11-28    1964-07-23     1753-01-01   \n",
       "2                  OH     2016-11-28    1964-07-23     1753-01-01   \n",
       "3                  OH     2016-11-28    1964-07-23     1753-01-01   \n",
       "4                  OH     2016-11-28    1964-07-23     1753-01-01   \n",
       "...               ...            ...           ...            ...   \n",
       "208767             GA     1753-01-01    2006-07-06     1753-01-01   \n",
       "208768             GA     1753-01-01    2006-07-06     1753-01-01   \n",
       "208769             GA     1753-01-01    2006-07-06     1753-01-01   \n",
       "208770             GA     1753-01-01    2006-07-06     1753-01-01   \n",
       "208771             GA     1753-01-01    2006-07-06     1753-01-01   \n",
       "\n",
       "        # of mcdonalds <1 mi  # of subway <1 mi  # of wendys <1 mi  \\\n",
       "0                          1                  1                  0   \n",
       "1                          1                  1                  0   \n",
       "2                          1                  1                  0   \n",
       "3                          1                  1                  0   \n",
       "4                          1                  1                  0   \n",
       "...                      ...                ...                ...   \n",
       "208767                     1                  2                  0   \n",
       "208768                     1                  2                  0   \n",
       "208769                     1                  2                  0   \n",
       "208770                     1                  2                  0   \n",
       "208771                     1                  2                  0   \n",
       "\n",
       "        # of burger king <1 mi  # of taco bell <1 mi  sum_of_competitors  \\\n",
       "0                            0                     1                   3   \n",
       "1                            0                     1                   3   \n",
       "2                            0                     1                   3   \n",
       "3                            0                     1                   3   \n",
       "4                            0                     1                   3   \n",
       "...                        ...                   ...                 ...   \n",
       "208767                       0                     0                   3   \n",
       "208768                       0                     0                   3   \n",
       "208769                       0                     0                   3   \n",
       "208770                       0                     0                   3   \n",
       "208771                       0                     0                   3   \n",
       "\n",
       "        onair_ty  equal_trps_cm_ty print_media_drop_date  \n",
       "0              0                 0                   NaT  \n",
       "1              0                 0                   NaT  \n",
       "2              0                 0                   NaT  \n",
       "3              1                41                   NaT  \n",
       "4              1               123            2015-01-27  \n",
       "...          ...               ...                   ...  \n",
       "208767         0                26            2018-11-27  \n",
       "208768         0                 9                   NaT  \n",
       "208769         0                 0                   NaT  \n",
       "208770         0                 8                   NaT  \n",
       "208771         1                27                   NaT  \n",
       "\n",
       "[205059 rows x 20 columns]"
      ]
     },
     "execution_count": 72,
     "metadata": {},
     "output_type": "execute_result"
    }
   ],
   "source": [
    "modeling_df"
   ]
  },
  {
   "cell_type": "markdown",
   "metadata": {},
   "source": [
    "# Feature Engineering"
   ]
  },
  {
   "cell_type": "markdown",
   "metadata": {},
   "source": [
    "## Adding Restaurant_Age (Time Since Opened or Last Remodel)"
   ]
  },
  {
   "cell_type": "code",
   "execution_count": 73,
   "metadata": {
    "ExecuteTime": {
     "end_time": "2020-09-05T15:21:22.395177Z",
     "start_time": "2020-09-05T15:21:22.380743Z"
    },
    "scrolled": true
   },
   "outputs": [],
   "source": [
    "modeling_df['last_date'] = pd.to_datetime('2018-12-30')"
   ]
  },
  {
   "cell_type": "code",
   "execution_count": 74,
   "metadata": {
    "ExecuteTime": {
     "end_time": "2020-09-05T15:21:31.096481Z",
     "start_time": "2020-09-05T15:21:31.084558Z"
    }
   },
   "outputs": [],
   "source": [
    "modeling_df['days_since_open'] = modeling_df['last_date'] - modeling_df['rest_opendate']"
   ]
  },
  {
   "cell_type": "code",
   "execution_count": 75,
   "metadata": {
    "ExecuteTime": {
     "end_time": "2020-09-05T15:21:34.692533Z",
     "start_time": "2020-09-05T15:21:34.682441Z"
    }
   },
   "outputs": [],
   "source": [
    "modeling_df['days_since_remodel'] = modeling_df['last_date'] - modeling_df['rest_remodeldt']"
   ]
  },
  {
   "cell_type": "code",
   "execution_count": 76,
   "metadata": {
    "ExecuteTime": {
     "end_time": "2020-09-05T15:21:44.214824Z",
     "start_time": "2020-09-05T15:21:37.996389Z"
    },
    "scrolled": true
   },
   "outputs": [],
   "source": [
    "modeling_df['days_since_open_edit'] = [int(str(x)[:-14]) for x in modeling_df['days_since_open']]\n",
    "modeling_df['days_since_remodel_edit'] = [int(str(x)[:-14]) for x in modeling_df['days_since_remodel']]"
   ]
  },
  {
   "cell_type": "code",
   "execution_count": 77,
   "metadata": {
    "ExecuteTime": {
     "end_time": "2020-09-05T15:21:46.296236Z",
     "start_time": "2020-09-05T15:21:46.292538Z"
    }
   },
   "outputs": [],
   "source": [
    "def merge(list1, list2): \n",
    "    merged_list = [(list1[i], list2[i]) for i in range(0, len(list1))] \n",
    "    return merged_list"
   ]
  },
  {
   "cell_type": "code",
   "execution_count": 78,
   "metadata": {
    "ExecuteTime": {
     "end_time": "2020-09-05T15:21:49.530622Z",
     "start_time": "2020-09-05T15:21:49.316426Z"
    }
   },
   "outputs": [],
   "source": [
    "tuple_list = merge(list(modeling_df['days_since_open_edit']), list(modeling_df['days_since_remodel_edit']))"
   ]
  },
  {
   "cell_type": "code",
   "execution_count": 79,
   "metadata": {
    "ExecuteTime": {
     "end_time": "2020-09-05T15:21:51.226783Z",
     "start_time": "2020-09-05T15:21:51.147972Z"
    }
   },
   "outputs": [],
   "source": [
    "least_days = []\n",
    "for x in tuple_list:\n",
    "    least_days.append(min(x))"
   ]
  },
  {
   "cell_type": "code",
   "execution_count": 81,
   "metadata": {
    "ExecuteTime": {
     "end_time": "2020-09-05T15:22:04.524128Z",
     "start_time": "2020-09-05T15:22:04.477247Z"
    }
   },
   "outputs": [],
   "source": [
    "least_days = pd.DataFrame(least_days, columns = ['least_days'])"
   ]
  },
  {
   "cell_type": "code",
   "execution_count": 82,
   "metadata": {
    "ExecuteTime": {
     "end_time": "2020-09-05T15:22:07.019189Z",
     "start_time": "2020-09-05T15:22:06.906741Z"
    }
   },
   "outputs": [],
   "source": [
    "modeling_df = least_days.join(modeling_df)"
   ]
  },
  {
   "cell_type": "code",
   "execution_count": 83,
   "metadata": {
    "ExecuteTime": {
     "end_time": "2020-09-05T15:22:10.264573Z",
     "start_time": "2020-09-05T15:22:10.180283Z"
    }
   },
   "outputs": [],
   "source": [
    "modeling_df = modeling_df.drop(columns=['last_date', 'days_since_open', 'days_since_remodel', 'days_since_open_edit', \n",
    "                          'days_since_remodel_edit'])"
   ]
  },
  {
   "cell_type": "code",
   "execution_count": 84,
   "metadata": {
    "ExecuteTime": {
     "end_time": "2020-09-05T15:22:13.894744Z",
     "start_time": "2020-09-05T15:22:13.803485Z"
    }
   },
   "outputs": [],
   "source": [
    "int_cols = ['rest_number','rest_dma_code','fiscal_year','fiscal_week_number','# of mcdonalds <1 mi', '# of subway <1 mi', '# of wendys <1 mi',\n",
    "       '# of burger king <1 mi', '# of taco bell <1 mi',\n",
    "       '# of mcdonalds <0.5 mi', '# of subway <0.5 mi', '# of wendys <0.5 mi',\n",
    "       '# of burger king <0.5 mi', '# of taco bell <0.5 mi',\n",
    "       'sum_of_competitors', 'onair_ty', 'equal_trps_cm_ty']\n",
    "for x in int_cols:\n",
    "    try:\n",
    "        modeling_df[x] = modeling_df[x].fillna(0.0)\n",
    "    except:\n",
    "        continue\n",
    "    try:\n",
    "        modeling_df[x] = modeling_df[x].astype('int')\n",
    "    except:\n",
    "        continue"
   ]
  },
  {
   "cell_type": "code",
   "execution_count": 85,
   "metadata": {
    "ExecuteTime": {
     "end_time": "2020-09-05T15:22:58.312211Z",
     "start_time": "2020-09-05T15:22:58.282118Z"
    }
   },
   "outputs": [],
   "source": [
    "modeling_df.rename(columns = {'least_days':'rest_age'}, inplace = True)"
   ]
  },
  {
   "cell_type": "markdown",
   "metadata": {},
   "source": [
    "# EDA"
   ]
  },
  {
   "cell_type": "markdown",
   "metadata": {},
   "source": [
    "## Combine weather and arg_sales data frames"
   ]
  },
  {
   "cell_type": "code",
   "execution_count": 86,
   "metadata": {
    "ExecuteTime": {
     "end_time": "2020-09-05T15:23:57.880310Z",
     "start_time": "2020-09-05T15:23:56.217781Z"
    }
   },
   "outputs": [],
   "source": [
    "sales_and_weather = arg_sales.merge(weather, left_on = ['Rest_Number', 'Days_Date'], right_on= ['rest_number', 'Date_TY']).reset_index().drop(\n",
    "    columns = ['index', 'rest_number', 'rest_dma_code', 'rest_dma_desc', 'Date_TY'])"
   ]
  },
  {
   "cell_type": "code",
   "execution_count": 87,
   "metadata": {
    "ExecuteTime": {
     "end_time": "2020-09-05T15:23:59.846705Z",
     "start_time": "2020-09-05T15:23:59.840777Z"
    },
    "scrolled": true
   },
   "outputs": [
    {
     "name": "stdout",
     "output_type": "stream",
     "text": [
      "Combining these dataframes lost 48900 rows of information\n"
     ]
    }
   ],
   "source": [
    "print('Combining these dataframes lost',len(arg_sales) - len(sales_and_weather),'rows of information')"
   ]
  },
  {
   "cell_type": "markdown",
   "metadata": {},
   "source": [
    "### Plotting Average Sales Per Fiscal Week by Weather Conditions"
   ]
  },
  {
   "cell_type": "code",
   "execution_count": 88,
   "metadata": {
    "ExecuteTime": {
     "end_time": "2020-09-05T15:24:03.934863Z",
     "start_time": "2020-09-05T15:24:02.865571Z"
    }
   },
   "outputs": [
    {
     "data": {
      "image/png": "[encoded data removed]",
      "text/plain": [
       "<Figure size 1080x504 with 1 Axes>"
      ]
     },
     "metadata": {
      "needs_background": "light"
     },
     "output_type": "display_data"
    }
   ],
   "source": [
    "plt.figure(figsize = (15,7))\n",
    "sns.lineplot(sales_and_weather.loc[sales_and_weather['snow'] == 1].groupby('Fiscal_Week_Number').agg({'Sales_TY': 'mean'}).reset_index()['Fiscal_Week_Number'],\n",
    "            sales_and_weather.loc[sales_and_weather['snow'] == 1].groupby('Fiscal_Week_Number').agg({'Sales_TY': 'mean'}).reset_index()['Sales_TY'], \n",
    "             color = 'grey', label = 'Snow')\n",
    "sns.lineplot(sales_and_weather.loc[sales_and_weather['thunderstorm'] == 1].groupby('Fiscal_Week_Number').agg({'Sales_TY': 'mean'}).reset_index()['Fiscal_Week_Number'],\n",
    "            sales_and_weather.loc[sales_and_weather['thunderstorm'] == 1].groupby('Fiscal_Week_Number').agg({'Sales_TY': 'mean'}).reset_index()['Sales_TY'], \n",
    "             color = 'yellow', label = 'Thunderstorm')\n",
    "sns.lineplot(sales_and_weather.loc[sales_and_weather['rain'] == 1].groupby('Fiscal_Week_Number').agg({'Sales_TY': 'mean'}).reset_index()['Fiscal_Week_Number'],\n",
    "            sales_and_weather.loc[sales_and_weather['rain'] == 1].groupby('Fiscal_Week_Number').agg({'Sales_TY': 'mean'}).reset_index()['Sales_TY'], \n",
    "             color = 'green', label = 'Rain')\n",
    "sns.lineplot(sales_and_weather.loc[sales_and_weather['clear_weather'] == 1].groupby('Fiscal_Week_Number').agg({'Sales_TY': 'mean'}).reset_index()['Fiscal_Week_Number'],\n",
    "            sales_and_weather.loc[sales_and_weather['clear_weather'] == 1].groupby('Fiscal_Week_Number').agg({'Sales_TY': 'mean'}).reset_index()['Sales_TY'], \n",
    "             color = 'blue', label = 'Clear Weather')\n",
    "plt.xlabel('Fiscal Week Number', size = 12)\n",
    "plt.xlabel('Average Sales Per Week', size = 12)\n",
    "plt.title('Average Sales per Fiscal Week by Seasons', size =15)\n",
    "plt.axvspan(0,10, facecolor = 'k', alpha = 0.25)\n",
    "plt.axvspan(49,53, facecolor = 'k', alpha = 0.25)\n",
    "plt.axvspan(10,23, facecolor = 'green', alpha = 0.25)\n",
    "plt.axvspan(23,36, facecolor = 'red', alpha = 0.25)\n",
    "plt.axvspan(36,49, facecolor = 'orange', alpha = 0.25)\n",
    "plt.show()"
   ]
  },
  {
   "cell_type": "markdown",
   "metadata": {},
   "source": [
    "## arg_sales Time Series"
   ]
  },
  {
   "cell_type": "code",
   "execution_count": 89,
   "metadata": {
    "ExecuteTime": {
     "end_time": "2020-09-05T15:24:12.238129Z",
     "start_time": "2020-09-05T15:24:12.231872Z"
    }
   },
   "outputs": [],
   "source": [
    "def quick_time_series():\n",
    "    \"\"\"takes restaurant number as input and quickly plots time series of that restaurant's sales over time\n",
    "    \n",
    "    Args:\n",
    "    \n",
    "    rest_number: corresponds to Inspire Brands restaurant number\n",
    "    \n",
    "    \n",
    "    \"\"\"\n",
    "    rest_number = int(input(\"Enter # of Restaurant for Quick Time Series: \"))\n",
    "    dates = [2015, 2016, 2017, 2018]\n",
    "    plt.figure(figsize = (20,5))\n",
    "    plt.title('Time Series of Restaurant #{}'.format(rest_number), size=15)\n",
    "    plt.xlabel('Date', size = 12)\n",
    "    plt.ylabel('Sales Total per Day', size = 12)\n",
    "    for x in dates:\n",
    "        plt.plot(arg_sales.loc[(arg_sales['Rest_Number'] == rest_number) & (arg_sales['Fiscal_Year'] == x)]['Days_Date'],\n",
    "                 arg_sales.loc[(arg_sales['Rest_Number'] == rest_number) & (arg_sales['Fiscal_Year'] == x)]['Sales_TY'])\n",
    "    plt.show()"
   ]
  },
  {
   "cell_type": "code",
   "execution_count": null,
   "metadata": {
    "ExecuteTime": {
     "end_time": "2020-09-05T00:45:23.973449Z",
     "start_time": "2020-09-05T00:43:56.684647Z"
    },
    "scrolled": true
   },
   "outputs": [],
   "source": [
    "quick_time_series()"
   ]
  },
  {
   "cell_type": "markdown",
   "metadata": {},
   "source": [
    "## Sales by State"
   ]
  },
  {
   "cell_type": "code",
   "execution_count": 90,
   "metadata": {
    "ExecuteTime": {
     "end_time": "2020-09-05T15:24:17.573152Z",
     "start_time": "2020-09-05T15:24:17.272900Z"
    },
    "scrolled": true
   },
   "outputs": [
    {
     "data": {
      "image/png": "[encoded data removed]",
      "text/plain": [
       "<Figure size 720x360 with 1 Axes>"
      ]
     },
     "metadata": {
      "needs_background": "light"
     },
     "output_type": "display_data"
    }
   ],
   "source": [
    "plt.figure(figsize = (10,5))\n",
    "sns.barplot(modeling_df.groupby('rest_addrstate').mean().sort_values('sum total sales')[:10].index,\n",
    "            modeling_df.groupby('rest_addrstate').mean().sort_values('sum total sales')[:10]['sum total sales'], \n",
    "            color = 'orange')\n",
    "plt.ylabel('Average Weekly Sales', size = 12)\n",
    "plt.xlabel('Bottom Ten States', size = 12)\n",
    "plt.title('Bottom 10 States by Average Weekly Sales', size = 15)\n",
    "plt.yticks(np.arange(0,40000, 5000))\n",
    "plt.show()\n",
    "            "
   ]
  },
  {
   "cell_type": "code",
   "execution_count": 91,
   "metadata": {
    "ExecuteTime": {
     "end_time": "2020-09-05T15:24:18.911863Z",
     "start_time": "2020-09-05T15:24:18.592316Z"
    }
   },
   "outputs": [
    {
     "data": {
      "image/png": "[encoded data removed]",
      "text/plain": [
       "<Figure size 720x360 with 1 Axes>"
      ]
     },
     "metadata": {
      "needs_background": "light"
     },
     "output_type": "display_data"
    }
   ],
   "source": [
    "plt.figure(figsize = (10,5))\n",
    "sns.barplot(modeling_df.groupby('rest_addrstate').mean().sort_values('sum total sales', \n",
    "                                                                     ascending = False)[:10].index,\n",
    "            modeling_df.groupby('rest_addrstate').mean().sort_values('sum total sales', \n",
    "                                                                     ascending = False)[:10]['sum total sales'], \n",
    "            color = 'green')\n",
    "plt.ylabel('Average Weekly Sales', size = 12)\n",
    "plt.xlabel('Bottom Ten States', size = 12)\n",
    "plt.title('Top 10 States by Average Weekly Sales', size = 15)\n",
    "plt.show()"
   ]
  },
  {
   "cell_type": "markdown",
   "metadata": {},
   "source": [
    "## print_media drop_date"
   ]
  },
  {
   "cell_type": "code",
   "execution_count": 103,
   "metadata": {
    "ExecuteTime": {
     "end_time": "2020-09-05T15:36:53.072800Z",
     "start_time": "2020-09-05T15:36:53.065600Z"
    }
   },
   "outputs": [],
   "source": [
    "def plot_yearly_series_w_drop_dates_diff():\n",
    "    rest_number = int(input('Input the Restaurant Number to Plot Time Series: '))\n",
    "    year = int(input('Input Year to View: '))\n",
    "    drop_dates = list(print_media.loc[(print_media['rest_number'] == rest_number) & (print_media['fiscal_year'] == year)]['drop_date'])\n",
    "    arg_sales_test = arg_sales.loc[(arg_sales['Rest_Number'] == rest_number) & (arg_sales['Fiscal_Year'] == year)]\n",
    "    arg_sales_test['print_media_drop_date'] = [x if x in drop_dates else None for x in arg_sales_test['Days_Date']]\n",
    "    plt.figure(figsize = (15,5))\n",
    "    plt.plot(arg_sales_test['Days_Date'],arg_sales_test['Sales_TY'].diff())\n",
    "    plt.scatter(arg_sales_test['print_media_drop_date'],arg_sales_test['Sales_TY'].diff(), color = 'red', label = 'Print Media Drop Dates')\n",
    "    plt.title(print('Restaurant #',rest_number,'(',year,') Sales by Day and Print Media Drop Dates, Seasonality Removed'))\n",
    "    plt.xlabel('Date', size=12)\n",
    "    plt.ylabel('Daily Sales Totals', size=12)\n",
    "    plt.show()"
   ]
  },
  {
   "cell_type": "code",
   "execution_count": 104,
   "metadata": {
    "ExecuteTime": {
     "end_time": "2020-09-05T15:36:54.102437Z",
     "start_time": "2020-09-05T15:36:54.095222Z"
    }
   },
   "outputs": [],
   "source": [
    "def plot_yearly_series_w_drop_dates():\n",
    "    rest_number = int(input('Input the Restaurant Number to Plot Time Series: '))\n",
    "    year = int(input('Input Year to View: '))\n",
    "    drop_dates = list(print_media.loc[(print_media['rest_number'] == rest_number) & (print_media['fiscal_year'] == year)]['drop_date'])\n",
    "    arg_sales_test = arg_sales.loc[(arg_sales['Rest_Number'] == rest_number) & (arg_sales['Fiscal_Year'] == year)]\n",
    "    arg_sales_test['print_media_drop_date'] = [x if x in drop_dates else None for x in arg_sales_test['Days_Date']]\n",
    "    plt.figure(figsize = (15,5))\n",
    "    plt.plot(arg_sales_test['Days_Date'],arg_sales_test['Sales_TY'])\n",
    "    plt.scatter(arg_sales_test['print_media_drop_date'],arg_sales_test['Sales_TY'], color = 'red', label = 'Print Media Drop Dates')\n",
    "    plt.title(print('Restaurant #',rest_number,'(',year,') Sales by Day and Print Media Drop Dates'))\n",
    "    plt.xlabel('Date', size=12)\n",
    "    plt.ylabel('Daily Sales Totals', size=12)\n",
    "    plt.show()"
   ]
  },
  {
   "cell_type": "code",
   "execution_count": 105,
   "metadata": {
    "ExecuteTime": {
     "end_time": "2020-09-05T15:37:01.013628Z",
     "start_time": "2020-09-05T15:36:56.730161Z"
    }
   },
   "outputs": [
    {
     "name": "stdout",
     "output_type": "stream",
     "text": [
      "Input the Restaurant Number to Plot Time Series: 1\n",
      "Input Year to View: 2017\n",
      "Restaurant # 1 ( 2017 ) Sales by Day and Print Media Drop Dates, Seasonality Removed\n"
     ]
    },
    {
     "data": {
      "image/png": "[encoded data removed]",
      "text/plain": [
       "<Figure size 1080x360 with 1 Axes>"
      ]
     },
     "metadata": {
      "needs_background": "light"
     },
     "output_type": "display_data"
    }
   ],
   "source": [
    "plot_yearly_series_w_drop_dates_diff()"
   ]
  },
  {
   "cell_type": "code",
   "execution_count": 106,
   "metadata": {
    "ExecuteTime": {
     "end_time": "2020-09-05T15:37:08.847788Z",
     "start_time": "2020-09-05T15:37:06.140921Z"
    }
   },
   "outputs": [
    {
     "name": "stdout",
     "output_type": "stream",
     "text": [
      "Input the Restaurant Number to Plot Time Series: 1\n",
      "Input Year to View: 2017\n",
      "Restaurant # 1 ( 2017 ) Sales by Day and Print Media Drop Dates\n"
     ]
    },
    {
     "data": {
      "image/png": "[encoded data removed]",
      "text/plain": [
       "<Figure size 1080x360 with 1 Axes>"
      ]
     },
     "metadata": {
      "needs_background": "light"
     },
     "output_type": "display_data"
    }
   ],
   "source": [
    "plot_yearly_series_w_drop_dates()"
   ]
  },
  {
   "cell_type": "markdown",
   "metadata": {},
   "source": [
    "## Quantify Lift in Sales From Print Media Drop Dates"
   ]
  },
  {
   "cell_type": "code",
   "execution_count": null,
   "metadata": {
    "ExecuteTime": {
     "end_time": "2020-09-05T00:45:51.539368Z",
     "start_time": "2020-09-05T00:45:39.472441Z"
    }
   },
   "outputs": [],
   "source": [
    "res = [] \n",
    "for i in list(arg_sales['Rest_Number']): \n",
    "    if i not in res: \n",
    "        res.append(i) "
   ]
  },
  {
   "cell_type": "code",
   "execution_count": null,
   "metadata": {
    "ExecuteTime": {
     "end_time": "2020-09-05T00:45:51.558358Z",
     "start_time": "2020-09-05T00:45:51.541251Z"
    }
   },
   "outputs": [],
   "source": [
    "drop_dates = list(print_media.loc[(print_media['rest_number'] == 1) & (print_media['fiscal_year'] == 2015)]['drop_date'])\n",
    "arg_sales_test = arg_sales.loc[(arg_sales['Rest_Number'] == 1) & (arg_sales['Fiscal_Year'] == 2015)]\n",
    "arg_sales_test['print_media_drop_date'] = [x if x in drop_dates else None for x in arg_sales_test['Days_Date']]"
   ]
  },
  {
   "cell_type": "code",
   "execution_count": null,
   "metadata": {
    "ExecuteTime": {
     "end_time": "2020-09-05T00:45:51.591001Z",
     "start_time": "2020-09-05T00:45:51.560220Z"
    },
    "scrolled": true
   },
   "outputs": [],
   "source": [
    "arg_sales_test.head(75)"
   ]
  },
  {
   "cell_type": "code",
   "execution_count": null,
   "metadata": {
    "ExecuteTime": {
     "end_time": "2020-09-05T00:45:51.652847Z",
     "start_time": "2020-09-05T00:45:51.594972Z"
    }
   },
   "outputs": [],
   "source": [
    "percent_changes = []\n",
    "number_of_drops = len(arg_sales_test.loc[arg_sales_test['print_media_drop_date'].isna() == False])\n",
    "for i in range(0,number_of_drops):\n",
    "    new_df1 = arg_sales_test.loc[arg_sales_test['print_media_drop_date'].isna() == False].reset_index()\n",
    "    timestamp_test = new_df1.iloc[i]['print_media_drop_date'] + datetime.timedelta(days=3)\n",
    "    new_sales = float(arg_sales_test.loc[arg_sales_test['Days_Date'] == timestamp_test]['Sales_TY'])\n",
    "    new_df2 = arg_sales_test.loc[arg_sales_test['print_media_drop_date'].isna() == False].reset_index()\n",
    "    old_sales = float(new_df2.iloc[i]['Sales_TY'])\n",
    "    percent_changes.append(round(((new_sales - old_sales) / old_sales) * 100,1))\n",
    "np.mean(percent_changes)"
   ]
  },
  {
   "cell_type": "code",
   "execution_count": null,
   "metadata": {
    "ExecuteTime": {
     "end_time": "2020-09-05T00:45:52.165263Z",
     "start_time": "2020-09-05T00:45:51.655077Z"
    }
   },
   "outputs": [],
   "source": [
    "mean_percent_changes = []\n",
    "for n in res[:2]:\n",
    "    for year in [2015,2016,2017,2018]:\n",
    "        drop_dates = list(print_media.loc[(print_media['rest_number'] == n) & (print_media['fiscal_year'] == year)]['drop_date'])\n",
    "        arg_sales_test = arg_sales.loc[(arg_sales['Rest_Number'] == n) & (arg_sales['Fiscal_Year'] == year)]\n",
    "        arg_sales_test['print_media_drop_date'] = [x if x in drop_dates else None for x in arg_sales_test['Days_Date']]\n",
    "        number_of_drops = len(arg_sales_test.loc[(arg_sales_test['print_media_drop_date'].isna() == False)])\n",
    "        percent_changes = []\n",
    "        for i in range(0,number_of_drops):\n",
    "            new_df1 = arg_sales_test.loc[arg_sales_test['print_media_drop_date'].isna() == False].reset_index()\n",
    "            timestamp_test = new_df1.iloc[i]['print_media_drop_date'] + datetime.timedelta(days=3)\n",
    "            new_sales = arg_sales_test.loc[arg_sales_test['Days_Date'] == timestamp_test]['Sales_TY']\n",
    "            new_df2 = arg_sales_test.loc[arg_sales_test['print_media_drop_date'].isna() == False].reset_index()\n",
    "            old_sales = int(new_df2.iloc[i]['Sales_TY'])\n",
    "            try:\n",
    "                percent_changes.append(round(((new_sales - old_sales) / old_sales) * 100,1))\n",
    "            except:\n",
    "                percent_changes.append(0)\n",
    "        mean_percent_changes.append(np.mean(percent_changes))\n",
    "\n",
    "\n",
    "    "
   ]
  },
  {
   "cell_type": "code",
   "execution_count": null,
   "metadata": {
    "ExecuteTime": {
     "end_time": "2020-09-05T00:45:52.171556Z",
     "start_time": "2020-09-05T00:45:52.167197Z"
    }
   },
   "outputs": [],
   "source": [
    "mean_percent_changes"
   ]
  },
  {
   "cell_type": "markdown",
   "metadata": {},
   "source": [
    "## Exploring MultiCollinearity"
   ]
  },
  {
   "cell_type": "code",
   "execution_count": 107,
   "metadata": {
    "ExecuteTime": {
     "end_time": "2020-09-05T15:46:55.724970Z",
     "start_time": "2020-09-05T15:46:55.719453Z"
    }
   },
   "outputs": [],
   "source": [
    "def make_heatmap(df,cols):\n",
    "    plt.figure(figsize = (15,15))\n",
    "    sns.heatmap(df[cols].corr(),annot=True,cmap='coolwarm')\n",
    "    plt.show()\n",
    "    print(abs(df[cols].corr()>.75).sum())"
   ]
  },
  {
   "cell_type": "code",
   "execution_count": 108,
   "metadata": {
    "ExecuteTime": {
     "end_time": "2020-09-05T15:46:59.077649Z",
     "start_time": "2020-09-05T15:46:57.699164Z"
    }
   },
   "outputs": [
    {
     "data": {
      "image/png": "[encoded data removed]",
      "text/plain": [
       "<Figure size 1080x1080 with 2 Axes>"
      ]
     },
     "metadata": {
      "needs_background": "light"
     },
     "output_type": "display_data"
    },
    {
     "name": "stdout",
     "output_type": "stream",
     "text": [
      "rest_age                  1\n",
      "rest_number               1\n",
      "rest_dma_code             2\n",
      "fiscal_year               2\n",
      "fiscal_week_number        1\n",
      "sum total sales           1\n",
      "# of mcdonalds <1 mi      1\n",
      "# of subway <1 mi         1\n",
      "# of wendys <1 mi         1\n",
      "# of burger king <1 mi    1\n",
      "# of taco bell <1 mi      1\n",
      "sum_of_competitors        1\n",
      "onair_ty                  1\n",
      "equal_trps_cm_ty          1\n",
      "dtype: int64\n"
     ]
    }
   ],
   "source": [
    "make_heatmap(modeling_df, list(modeling_df.columns))"
   ]
  },
  {
   "cell_type": "code",
   "execution_count": 109,
   "metadata": {
    "ExecuteTime": {
     "end_time": "2020-09-05T15:48:07.825081Z",
     "start_time": "2020-09-05T15:48:07.805664Z"
    }
   },
   "outputs": [],
   "source": [
    "modeling_df.drop(columns = ['# of mcdonalds <1 mi', '# of subway <1 mi', '# of wendys <1 mi',\n",
    "                            '# of burger king <1 mi','# of taco bell <1 mi'], inplace = True)"
   ]
  },
  {
   "cell_type": "code",
   "execution_count": 110,
   "metadata": {
    "ExecuteTime": {
     "end_time": "2020-09-05T15:48:09.678737Z",
     "start_time": "2020-09-05T15:48:08.905411Z"
    }
   },
   "outputs": [
    {
     "data": {
      "image/png": "[encoded data removed]",
      "text/plain": [
       "<Figure size 1080x1080 with 2 Axes>"
      ]
     },
     "metadata": {
      "needs_background": "light"
     },
     "output_type": "display_data"
    },
    {
     "name": "stdout",
     "output_type": "stream",
     "text": [
      "rest_age              1\n",
      "rest_number           1\n",
      "rest_dma_code         2\n",
      "fiscal_year           2\n",
      "fiscal_week_number    1\n",
      "sum total sales       1\n",
      "sum_of_competitors    1\n",
      "onair_ty              1\n",
      "equal_trps_cm_ty      1\n",
      "dtype: int64\n"
     ]
    }
   ],
   "source": [
    "make_heatmap(modeling_df, list(modeling_df.columns))"
   ]
  },
  {
   "cell_type": "code",
   "execution_count": 111,
   "metadata": {
    "ExecuteTime": {
     "end_time": "2020-09-05T15:48:32.502393Z",
     "start_time": "2020-09-05T15:48:32.340236Z"
    }
   },
   "outputs": [
    {
     "data": {
      "text/html": [
       "<div>\n",
       "<style scoped>\n",
       "    .dataframe tbody tr th:only-of-type {\n",
       "        vertical-align: middle;\n",
       "    }\n",
       "\n",
       "    .dataframe tbody tr th {\n",
       "        vertical-align: top;\n",
       "    }\n",
       "\n",
       "    .dataframe thead th {\n",
       "        text-align: right;\n",
       "    }\n",
       "</style>\n",
       "<table border=\"1\" class=\"dataframe\">\n",
       "  <thead>\n",
       "    <tr style=\"text-align: right;\">\n",
       "      <th></th>\n",
       "      <th>rest_age</th>\n",
       "      <th>rest_number</th>\n",
       "      <th>rest_dma_desc</th>\n",
       "      <th>fiscal_year</th>\n",
       "      <th>fiscal_week_number</th>\n",
       "      <th>sum total sales</th>\n",
       "      <th>rest_status</th>\n",
       "      <th>rest_addrstate</th>\n",
       "      <th>rest_remodeldt</th>\n",
       "      <th>rest_opendate</th>\n",
       "      <th>rest_closedate</th>\n",
       "      <th>sum_of_competitors</th>\n",
       "      <th>onair_ty</th>\n",
       "      <th>equal_trps_cm_ty</th>\n",
       "      <th>print_media_drop_date</th>\n",
       "      <th>dummied_501</th>\n",
       "      <th>dummied_502</th>\n",
       "      <th>dummied_504</th>\n",
       "      <th>dummied_505</th>\n",
       "      <th>dummied_507</th>\n",
       "      <th>dummied_508</th>\n",
       "      <th>dummied_509</th>\n",
       "      <th>dummied_510</th>\n",
       "      <th>dummied_511</th>\n",
       "      <th>dummied_512</th>\n",
       "      <th>...</th>\n",
       "      <th>dummied_565</th>\n",
       "      <th>dummied_566</th>\n",
       "      <th>dummied_569</th>\n",
       "      <th>dummied_570</th>\n",
       "      <th>dummied_573</th>\n",
       "      <th>dummied_577</th>\n",
       "      <th>dummied_584</th>\n",
       "      <th>dummied_588</th>\n",
       "      <th>dummied_596</th>\n",
       "      <th>dummied_611</th>\n",
       "      <th>dummied_613</th>\n",
       "      <th>dummied_630</th>\n",
       "      <th>dummied_632</th>\n",
       "      <th>dummied_639</th>\n",
       "      <th>dummied_640</th>\n",
       "      <th>dummied_649</th>\n",
       "      <th>dummied_659</th>\n",
       "      <th>dummied_673</th>\n",
       "      <th>dummied_676</th>\n",
       "      <th>dummied_691</th>\n",
       "      <th>dummied_698</th>\n",
       "      <th>dummied_724</th>\n",
       "      <th>dummied_736</th>\n",
       "      <th>dummied_737</th>\n",
       "      <th>dummied_770</th>\n",
       "    </tr>\n",
       "  </thead>\n",
       "  <tbody>\n",
       "    <tr>\n",
       "      <th>0</th>\n",
       "      <td>762</td>\n",
       "      <td>1</td>\n",
       "      <td>YOUNGSTOWN</td>\n",
       "      <td>2015</td>\n",
       "      <td>1</td>\n",
       "      <td>14808.43</td>\n",
       "      <td>Open</td>\n",
       "      <td>OH</td>\n",
       "      <td>2016-11-28</td>\n",
       "      <td>1964-07-23</td>\n",
       "      <td>1753-01-01</td>\n",
       "      <td>3</td>\n",
       "      <td>0</td>\n",
       "      <td>0</td>\n",
       "      <td>NaT</td>\n",
       "      <td>0</td>\n",
       "      <td>0</td>\n",
       "      <td>0</td>\n",
       "      <td>0</td>\n",
       "      <td>0</td>\n",
       "      <td>0</td>\n",
       "      <td>0</td>\n",
       "      <td>0</td>\n",
       "      <td>0</td>\n",
       "      <td>0</td>\n",
       "      <td>...</td>\n",
       "      <td>0</td>\n",
       "      <td>0</td>\n",
       "      <td>0</td>\n",
       "      <td>0</td>\n",
       "      <td>0</td>\n",
       "      <td>0</td>\n",
       "      <td>0</td>\n",
       "      <td>0</td>\n",
       "      <td>0</td>\n",
       "      <td>0</td>\n",
       "      <td>0</td>\n",
       "      <td>0</td>\n",
       "      <td>0</td>\n",
       "      <td>0</td>\n",
       "      <td>0</td>\n",
       "      <td>0</td>\n",
       "      <td>0</td>\n",
       "      <td>0</td>\n",
       "      <td>0</td>\n",
       "      <td>0</td>\n",
       "      <td>0</td>\n",
       "      <td>0</td>\n",
       "      <td>0</td>\n",
       "      <td>0</td>\n",
       "      <td>0</td>\n",
       "    </tr>\n",
       "    <tr>\n",
       "      <th>1</th>\n",
       "      <td>762</td>\n",
       "      <td>1</td>\n",
       "      <td>YOUNGSTOWN</td>\n",
       "      <td>2015</td>\n",
       "      <td>2</td>\n",
       "      <td>11590.93</td>\n",
       "      <td>Open</td>\n",
       "      <td>OH</td>\n",
       "      <td>2016-11-28</td>\n",
       "      <td>1964-07-23</td>\n",
       "      <td>1753-01-01</td>\n",
       "      <td>3</td>\n",
       "      <td>0</td>\n",
       "      <td>0</td>\n",
       "      <td>NaT</td>\n",
       "      <td>0</td>\n",
       "      <td>0</td>\n",
       "      <td>0</td>\n",
       "      <td>0</td>\n",
       "      <td>0</td>\n",
       "      <td>0</td>\n",
       "      <td>0</td>\n",
       "      <td>0</td>\n",
       "      <td>0</td>\n",
       "      <td>0</td>\n",
       "      <td>...</td>\n",
       "      <td>0</td>\n",
       "      <td>0</td>\n",
       "      <td>0</td>\n",
       "      <td>0</td>\n",
       "      <td>0</td>\n",
       "      <td>0</td>\n",
       "      <td>0</td>\n",
       "      <td>0</td>\n",
       "      <td>0</td>\n",
       "      <td>0</td>\n",
       "      <td>0</td>\n",
       "      <td>0</td>\n",
       "      <td>0</td>\n",
       "      <td>0</td>\n",
       "      <td>0</td>\n",
       "      <td>0</td>\n",
       "      <td>0</td>\n",
       "      <td>0</td>\n",
       "      <td>0</td>\n",
       "      <td>0</td>\n",
       "      <td>0</td>\n",
       "      <td>0</td>\n",
       "      <td>0</td>\n",
       "      <td>0</td>\n",
       "      <td>0</td>\n",
       "    </tr>\n",
       "    <tr>\n",
       "      <th>2</th>\n",
       "      <td>762</td>\n",
       "      <td>1</td>\n",
       "      <td>YOUNGSTOWN</td>\n",
       "      <td>2015</td>\n",
       "      <td>3</td>\n",
       "      <td>13627.44</td>\n",
       "      <td>Open</td>\n",
       "      <td>OH</td>\n",
       "      <td>2016-11-28</td>\n",
       "      <td>1964-07-23</td>\n",
       "      <td>1753-01-01</td>\n",
       "      <td>3</td>\n",
       "      <td>0</td>\n",
       "      <td>0</td>\n",
       "      <td>NaT</td>\n",
       "      <td>0</td>\n",
       "      <td>0</td>\n",
       "      <td>0</td>\n",
       "      <td>0</td>\n",
       "      <td>0</td>\n",
       "      <td>0</td>\n",
       "      <td>0</td>\n",
       "      <td>0</td>\n",
       "      <td>0</td>\n",
       "      <td>0</td>\n",
       "      <td>...</td>\n",
       "      <td>0</td>\n",
       "      <td>0</td>\n",
       "      <td>0</td>\n",
       "      <td>0</td>\n",
       "      <td>0</td>\n",
       "      <td>0</td>\n",
       "      <td>0</td>\n",
       "      <td>0</td>\n",
       "      <td>0</td>\n",
       "      <td>0</td>\n",
       "      <td>0</td>\n",
       "      <td>0</td>\n",
       "      <td>0</td>\n",
       "      <td>0</td>\n",
       "      <td>0</td>\n",
       "      <td>0</td>\n",
       "      <td>0</td>\n",
       "      <td>0</td>\n",
       "      <td>0</td>\n",
       "      <td>0</td>\n",
       "      <td>0</td>\n",
       "      <td>0</td>\n",
       "      <td>0</td>\n",
       "      <td>0</td>\n",
       "      <td>0</td>\n",
       "    </tr>\n",
       "    <tr>\n",
       "      <th>3</th>\n",
       "      <td>762</td>\n",
       "      <td>1</td>\n",
       "      <td>YOUNGSTOWN</td>\n",
       "      <td>2015</td>\n",
       "      <td>4</td>\n",
       "      <td>15834.42</td>\n",
       "      <td>Open</td>\n",
       "      <td>OH</td>\n",
       "      <td>2016-11-28</td>\n",
       "      <td>1964-07-23</td>\n",
       "      <td>1753-01-01</td>\n",
       "      <td>3</td>\n",
       "      <td>1</td>\n",
       "      <td>41</td>\n",
       "      <td>NaT</td>\n",
       "      <td>0</td>\n",
       "      <td>0</td>\n",
       "      <td>0</td>\n",
       "      <td>0</td>\n",
       "      <td>0</td>\n",
       "      <td>0</td>\n",
       "      <td>0</td>\n",
       "      <td>0</td>\n",
       "      <td>0</td>\n",
       "      <td>0</td>\n",
       "      <td>...</td>\n",
       "      <td>0</td>\n",
       "      <td>0</td>\n",
       "      <td>0</td>\n",
       "      <td>0</td>\n",
       "      <td>0</td>\n",
       "      <td>0</td>\n",
       "      <td>0</td>\n",
       "      <td>0</td>\n",
       "      <td>0</td>\n",
       "      <td>0</td>\n",
       "      <td>0</td>\n",
       "      <td>0</td>\n",
       "      <td>0</td>\n",
       "      <td>0</td>\n",
       "      <td>0</td>\n",
       "      <td>0</td>\n",
       "      <td>0</td>\n",
       "      <td>0</td>\n",
       "      <td>0</td>\n",
       "      <td>0</td>\n",
       "      <td>0</td>\n",
       "      <td>0</td>\n",
       "      <td>0</td>\n",
       "      <td>0</td>\n",
       "      <td>0</td>\n",
       "    </tr>\n",
       "    <tr>\n",
       "      <th>4</th>\n",
       "      <td>762</td>\n",
       "      <td>1</td>\n",
       "      <td>YOUNGSTOWN</td>\n",
       "      <td>2015</td>\n",
       "      <td>5</td>\n",
       "      <td>17747.08</td>\n",
       "      <td>Open</td>\n",
       "      <td>OH</td>\n",
       "      <td>2016-11-28</td>\n",
       "      <td>1964-07-23</td>\n",
       "      <td>1753-01-01</td>\n",
       "      <td>3</td>\n",
       "      <td>1</td>\n",
       "      <td>123</td>\n",
       "      <td>2015-01-27</td>\n",
       "      <td>0</td>\n",
       "      <td>0</td>\n",
       "      <td>0</td>\n",
       "      <td>0</td>\n",
       "      <td>0</td>\n",
       "      <td>0</td>\n",
       "      <td>0</td>\n",
       "      <td>0</td>\n",
       "      <td>0</td>\n",
       "      <td>0</td>\n",
       "      <td>...</td>\n",
       "      <td>0</td>\n",
       "      <td>0</td>\n",
       "      <td>0</td>\n",
       "      <td>0</td>\n",
       "      <td>0</td>\n",
       "      <td>0</td>\n",
       "      <td>0</td>\n",
       "      <td>0</td>\n",
       "      <td>0</td>\n",
       "      <td>0</td>\n",
       "      <td>0</td>\n",
       "      <td>0</td>\n",
       "      <td>0</td>\n",
       "      <td>0</td>\n",
       "      <td>0</td>\n",
       "      <td>0</td>\n",
       "      <td>0</td>\n",
       "      <td>0</td>\n",
       "      <td>0</td>\n",
       "      <td>0</td>\n",
       "      <td>0</td>\n",
       "      <td>0</td>\n",
       "      <td>0</td>\n",
       "      <td>0</td>\n",
       "      <td>0</td>\n",
       "    </tr>\n",
       "  </tbody>\n",
       "</table>\n",
       "<p>5 rows × 84 columns</p>\n",
       "</div>"
      ],
      "text/plain": [
       "   rest_age  rest_number                   rest_dma_desc  fiscal_year  \\\n",
       "0       762            1  YOUNGSTOWN                             2015   \n",
       "1       762            1  YOUNGSTOWN                             2015   \n",
       "2       762            1  YOUNGSTOWN                             2015   \n",
       "3       762            1  YOUNGSTOWN                             2015   \n",
       "4       762            1  YOUNGSTOWN                             2015   \n",
       "\n",
       "   fiscal_week_number  sum total sales rest_status rest_addrstate  \\\n",
       "0                   1         14808.43        Open             OH   \n",
       "1                   2         11590.93        Open             OH   \n",
       "2                   3         13627.44        Open             OH   \n",
       "3                   4         15834.42        Open             OH   \n",
       "4                   5         17747.08        Open             OH   \n",
       "\n",
       "  rest_remodeldt rest_opendate rest_closedate  sum_of_competitors  onair_ty  \\\n",
       "0     2016-11-28    1964-07-23     1753-01-01                   3         0   \n",
       "1     2016-11-28    1964-07-23     1753-01-01                   3         0   \n",
       "2     2016-11-28    1964-07-23     1753-01-01                   3         0   \n",
       "3     2016-11-28    1964-07-23     1753-01-01                   3         1   \n",
       "4     2016-11-28    1964-07-23     1753-01-01                   3         1   \n",
       "\n",
       "   equal_trps_cm_ty print_media_drop_date  dummied_501  dummied_502  \\\n",
       "0                 0                   NaT            0            0   \n",
       "1                 0                   NaT            0            0   \n",
       "2                 0                   NaT            0            0   \n",
       "3                41                   NaT            0            0   \n",
       "4               123            2015-01-27            0            0   \n",
       "\n",
       "   dummied_504  dummied_505  dummied_507  dummied_508  dummied_509  \\\n",
       "0            0            0            0            0            0   \n",
       "1            0            0            0            0            0   \n",
       "2            0            0            0            0            0   \n",
       "3            0            0            0            0            0   \n",
       "4            0            0            0            0            0   \n",
       "\n",
       "   dummied_510  dummied_511  dummied_512  ...  dummied_565  dummied_566  \\\n",
       "0            0            0            0  ...            0            0   \n",
       "1            0            0            0  ...            0            0   \n",
       "2            0            0            0  ...            0            0   \n",
       "3            0            0            0  ...            0            0   \n",
       "4            0            0            0  ...            0            0   \n",
       "\n",
       "   dummied_569  dummied_570  dummied_573  dummied_577  dummied_584  \\\n",
       "0            0            0            0            0            0   \n",
       "1            0            0            0            0            0   \n",
       "2            0            0            0            0            0   \n",
       "3            0            0            0            0            0   \n",
       "4            0            0            0            0            0   \n",
       "\n",
       "   dummied_588  dummied_596  dummied_611  dummied_613  dummied_630  \\\n",
       "0            0            0            0            0            0   \n",
       "1            0            0            0            0            0   \n",
       "2            0            0            0            0            0   \n",
       "3            0            0            0            0            0   \n",
       "4            0            0            0            0            0   \n",
       "\n",
       "   dummied_632  dummied_639  dummied_640  dummied_649  dummied_659  \\\n",
       "0            0            0            0            0            0   \n",
       "1            0            0            0            0            0   \n",
       "2            0            0            0            0            0   \n",
       "3            0            0            0            0            0   \n",
       "4            0            0            0            0            0   \n",
       "\n",
       "   dummied_673  dummied_676  dummied_691  dummied_698  dummied_724  \\\n",
       "0            0            0            0            0            0   \n",
       "1            0            0            0            0            0   \n",
       "2            0            0            0            0            0   \n",
       "3            0            0            0            0            0   \n",
       "4            0            0            0            0            0   \n",
       "\n",
       "   dummied_736  dummied_737  dummied_770  \n",
       "0            0            0            0  \n",
       "1            0            0            0  \n",
       "2            0            0            0  \n",
       "3            0            0            0  \n",
       "4            0            0            0  \n",
       "\n",
       "[5 rows x 84 columns]"
      ]
     },
     "execution_count": 111,
     "metadata": {},
     "output_type": "execute_result"
    }
   ],
   "source": [
    "modeling_dummied = modeling_df.copy()\n",
    "modeling_dummied = pd.get_dummies(modeling_dummied, columns = ['rest_dma_code'], prefix = 'dummied', drop_first=True)\n",
    "modeling_dummied.head()"
   ]
  },
  {
   "cell_type": "markdown",
   "metadata": {},
   "source": [
    "## Sales by DMA_Code"
   ]
  },
  {
   "cell_type": "code",
   "execution_count": 112,
   "metadata": {
    "ExecuteTime": {
     "end_time": "2020-09-05T15:48:44.714621Z",
     "start_time": "2020-09-05T15:48:44.650535Z"
    }
   },
   "outputs": [],
   "source": [
    "modeling_df['city_state'] = modeling_df['rest_dma_desc'] + modeling_df['rest_addrstate']\n",
    "modeling_df.rename(columns = {'sum total sales': 'sum_total_sales'}, inplace=True)"
   ]
  },
  {
   "cell_type": "code",
   "execution_count": 113,
   "metadata": {
    "ExecuteTime": {
     "end_time": "2020-09-05T15:48:47.788553Z",
     "start_time": "2020-09-05T15:48:47.724154Z"
    }
   },
   "outputs": [],
   "source": [
    "bottom10_dma = modeling_df.groupby(['city_state']).mean()[['rest_age','sum_total_sales','equal_trps_cm_ty']].sort_values('sum_total_sales')[:10]"
   ]
  },
  {
   "cell_type": "code",
   "execution_count": 114,
   "metadata": {
    "ExecuteTime": {
     "end_time": "2020-09-05T15:48:49.139362Z",
     "start_time": "2020-09-05T15:48:49.135910Z"
    }
   },
   "outputs": [],
   "source": [
    "city_state = []\n",
    "for x in list(bottom10_dma.index):\n",
    "    city_state.append(x.strip().replace('                        ',', '))"
   ]
  },
  {
   "cell_type": "code",
   "execution_count": 119,
   "metadata": {
    "ExecuteTime": {
     "end_time": "2020-09-05T15:49:43.547259Z",
     "start_time": "2020-09-05T15:49:43.260176Z"
    }
   },
   "outputs": [
    {
     "data": {
      "text/plain": [
       "<matplotlib.axes._subplots.AxesSubplot at 0x7fce33f140b8>"
      ]
     },
     "execution_count": 119,
     "metadata": {},
     "output_type": "execute_result"
    },
    {
     "data": {
      "image/png": "[encoded data removed]",
      "text/plain": [
       "<Figure size 720x360 with 1 Axes>"
      ]
     },
     "metadata": {
      "needs_background": "light"
     },
     "output_type": "display_data"
    }
   ],
   "source": [
    "plt.figure(figsize=(10,5))\n",
    "sns.barplot(data = bottom10_dma, x = bottom10_dma['sum_total_sales'], y=bottom10_dma.index, orient = 'h')"
   ]
  },
  {
   "cell_type": "code",
   "execution_count": 120,
   "metadata": {
    "ExecuteTime": {
     "end_time": "2020-09-05T15:49:56.522186Z",
     "start_time": "2020-09-05T15:49:56.465754Z"
    }
   },
   "outputs": [],
   "source": [
    "top10_dma = modeling_df.groupby(['city_state']).mean()[['rest_age',\n",
    "                                            'sum_total_sales','equal_trps_cm_ty']].sort_values('sum_total_sales', ascending = False)[:10]"
   ]
  },
  {
   "cell_type": "code",
   "execution_count": 122,
   "metadata": {
    "ExecuteTime": {
     "end_time": "2020-09-05T15:50:19.661061Z",
     "start_time": "2020-09-05T15:50:19.351614Z"
    }
   },
   "outputs": [
    {
     "data": {
      "text/plain": [
       "<matplotlib.axes._subplots.AxesSubplot at 0x7fce35d7c128>"
      ]
     },
     "execution_count": 122,
     "metadata": {},
     "output_type": "execute_result"
    },
    {
     "data": {
      "image/png": "[encoded data removed]",
      "text/plain": [
       "<Figure size 720x360 with 1 Axes>"
      ]
     },
     "metadata": {
      "needs_background": "light"
     },
     "output_type": "display_data"
    }
   ],
   "source": [
    "plt.figure(figsize=(10,5))\n",
    "sns.barplot(data = top10_dma, x = top10_dma['sum_total_sales'], y=top10_dma.index, orient = 'h')"
   ]
  },
  {
   "cell_type": "markdown",
   "metadata": {},
   "source": [
    "## Sales by Restaurant Age"
   ]
  },
  {
   "cell_type": "code",
   "execution_count": 179,
   "metadata": {
    "ExecuteTime": {
     "end_time": "2020-09-05T16:30:15.784106Z",
     "start_time": "2020-09-05T16:30:15.738699Z"
    }
   },
   "outputs": [],
   "source": [
    "mean_sales = modeling_df.loc[modeling_df['rest_number'] != 0].groupby('rest_number').agg({'sum_total_sales':'mean'}).reset_index()"
   ]
  },
  {
   "cell_type": "code",
   "execution_count": 180,
   "metadata": {
    "ExecuteTime": {
     "end_time": "2020-09-05T16:30:17.576832Z",
     "start_time": "2020-09-05T16:30:17.531443Z"
    }
   },
   "outputs": [],
   "source": [
    "rest_age = modeling_df.loc[modeling_df['rest_number'] != 0].drop_duplicates('rest_number')['rest_age'].reset_index()"
   ]
  },
  {
   "cell_type": "code",
   "execution_count": 222,
   "metadata": {
    "ExecuteTime": {
     "end_time": "2020-09-05T16:59:21.050734Z",
     "start_time": "2020-09-05T16:59:21.043399Z"
    }
   },
   "outputs": [],
   "source": [
    "age_explore = pd.concat([mean_sales, rest_age], axis=1)[['rest_number', 'rest_age', 'sum_total_sales']]\n",
    "age_explore = age_explore.loc[age_explore['rest_age'] > 1]"
   ]
  },
  {
   "cell_type": "code",
   "execution_count": 264,
   "metadata": {
    "ExecuteTime": {
     "end_time": "2020-09-05T17:16:02.636896Z",
     "start_time": "2020-09-05T17:16:02.627340Z"
    }
   },
   "outputs": [
    {
     "name": "stdout",
     "output_type": "stream",
     "text": [
      "Average age in days of bottom 500 performing restaurants:  12.7 years\n",
      "Average age in days of top 500 performing restaurants:  11.4 years\n",
      "Percent difference: 10%\n",
      "Average age of all restaurants:  12.0 years\n"
     ]
    }
   ],
   "source": [
    "print('Average age in days of bottom 500 performing restaurants: ',\n",
    "      round(np.mean(age_explore.sort_values('sum_total_sales')[:500]['rest_age'])/365,1),'years')\n",
    "print('Average age in days of top 500 performing restaurants: ',\n",
    "      round(np.mean(age_explore.sort_values('sum_total_sales', ascending = False)[:500]['rest_age'])/365,1),'years')\n",
    "print('Percent difference: 10%')\n",
    "print('Average age of all restaurants: ', round(np.mean(age_explore['rest_age'])/365,1),'years')\n",
    "\n",
    "      "
   ]
  },
  {
   "cell_type": "code",
   "execution_count": 224,
   "metadata": {
    "ExecuteTime": {
     "end_time": "2020-09-05T16:59:27.006848Z",
     "start_time": "2020-09-05T16:59:26.996422Z"
    }
   },
   "outputs": [
    {
     "data": {
      "text/html": [
       "<div>\n",
       "<style scoped>\n",
       "    .dataframe tbody tr th:only-of-type {\n",
       "        vertical-align: middle;\n",
       "    }\n",
       "\n",
       "    .dataframe tbody tr th {\n",
       "        vertical-align: top;\n",
       "    }\n",
       "\n",
       "    .dataframe thead th {\n",
       "        text-align: right;\n",
       "    }\n",
       "</style>\n",
       "<table border=\"1\" class=\"dataframe\">\n",
       "  <thead>\n",
       "    <tr style=\"text-align: right;\">\n",
       "      <th></th>\n",
       "      <th>rest_number</th>\n",
       "      <th>rest_age</th>\n",
       "      <th>sum_total_sales</th>\n",
       "    </tr>\n",
       "  </thead>\n",
       "  <tbody>\n",
       "    <tr>\n",
       "      <th>626</th>\n",
       "      <td>6421</td>\n",
       "      <td>7654</td>\n",
       "      <td>10595.094186</td>\n",
       "    </tr>\n",
       "    <tr>\n",
       "      <th>1067</th>\n",
       "      <td>8088</td>\n",
       "      <td>547</td>\n",
       "      <td>11291.320000</td>\n",
       "    </tr>\n",
       "    <tr>\n",
       "      <th>142</th>\n",
       "      <td>635</td>\n",
       "      <td>8074</td>\n",
       "      <td>11529.688182</td>\n",
       "    </tr>\n",
       "    <tr>\n",
       "      <th>1066</th>\n",
       "      <td>8087</td>\n",
       "      <td>440</td>\n",
       "      <td>12093.343782</td>\n",
       "    </tr>\n",
       "    <tr>\n",
       "      <th>196</th>\n",
       "      <td>888</td>\n",
       "      <td>1119</td>\n",
       "      <td>12139.761298</td>\n",
       "    </tr>\n",
       "    <tr>\n",
       "      <th>819</th>\n",
       "      <td>7215</td>\n",
       "      <td>5312</td>\n",
       "      <td>12144.906124</td>\n",
       "    </tr>\n",
       "    <tr>\n",
       "      <th>423</th>\n",
       "      <td>5065</td>\n",
       "      <td>7654</td>\n",
       "      <td>12276.263130</td>\n",
       "    </tr>\n",
       "    <tr>\n",
       "      <th>1034</th>\n",
       "      <td>8017</td>\n",
       "      <td>401</td>\n",
       "      <td>12319.895728</td>\n",
       "    </tr>\n",
       "    <tr>\n",
       "      <th>750</th>\n",
       "      <td>6959</td>\n",
       "      <td>5372</td>\n",
       "      <td>12481.517874</td>\n",
       "    </tr>\n",
       "    <tr>\n",
       "      <th>167</th>\n",
       "      <td>784</td>\n",
       "      <td>776</td>\n",
       "      <td>12551.327837</td>\n",
       "    </tr>\n",
       "  </tbody>\n",
       "</table>\n",
       "</div>"
      ],
      "text/plain": [
       "      rest_number  rest_age  sum_total_sales\n",
       "626          6421      7654     10595.094186\n",
       "1067         8088       547     11291.320000\n",
       "142           635      8074     11529.688182\n",
       "1066         8087       440     12093.343782\n",
       "196           888      1119     12139.761298\n",
       "819          7215      5312     12144.906124\n",
       "423          5065      7654     12276.263130\n",
       "1034         8017       401     12319.895728\n",
       "750          6959      5372     12481.517874\n",
       "167           784       776     12551.327837"
      ]
     },
     "execution_count": 224,
     "metadata": {},
     "output_type": "execute_result"
    }
   ],
   "source": [
    "age_explore.sort_values('sum_total_sales')[2:12]"
   ]
  },
  {
   "cell_type": "code",
   "execution_count": 233,
   "metadata": {
    "ExecuteTime": {
     "end_time": "2020-09-05T17:03:58.217071Z",
     "start_time": "2020-09-05T17:03:56.899114Z"
    }
   },
   "outputs": [
    {
     "data": {
      "image/png": "[encoded data removed]",
      "text/plain": [
       "<Figure size 720x360 with 1 Axes>"
      ]
     },
     "metadata": {
      "needs_background": "light"
     },
     "output_type": "display_data"
    }
   ],
   "source": [
    "plt.figure(figsize=(10,5))\n",
    "sns.kdeplot(age_explore.sort_values('sum_total_sales')['rest_age'], \n",
    "               age_explore.sort_values('sum_total_sales')['sum_total_sales'], gridsize=100)\n",
    "plt.title('Density Plot of Restaurant Age by Total Sales', size = 15)\n",
    "plt.xlabel('Restaurant Age in Days', size = 12)\n",
    "plt.ylabel('Average Weekly Sales (USD)', size = 12)\n",
    "plt.show()"
   ]
  },
  {
   "cell_type": "code",
   "execution_count": 261,
   "metadata": {
    "ExecuteTime": {
     "end_time": "2020-09-05T17:15:14.455216Z",
     "start_time": "2020-09-05T17:15:14.290263Z"
    }
   },
   "outputs": [
    {
     "data": {
      "image/png": "[encoded data removed]",
      "text/plain": [
       "<Figure size 720x360 with 1 Axes>"
      ]
     },
     "metadata": {
      "needs_background": "light"
     },
     "output_type": "display_data"
    }
   ],
   "source": [
    "plt.figure(figsize=(10,5))\n",
    "sns.boxplot(age_explore.sort_values('sum_total_sales')['rest_age'])\n",
    "plt.title('Boxplot of Restaurant Age', size = 15)\n",
    "plt.xlabel('Restaurant Age in Days', size = 12)\n",
    "plt.show()"
   ]
  },
  {
   "cell_type": "markdown",
   "metadata": {},
   "source": [
    "## Sales by TV Media"
   ]
  },
  {
   "cell_type": "code",
   "execution_count": 307,
   "metadata": {
    "ExecuteTime": {
     "end_time": "2020-09-05T18:01:46.242851Z",
     "start_time": "2020-09-05T18:01:46.194395Z"
    }
   },
   "outputs": [],
   "source": [
    "trps = modeling_df.loc[modeling_df['rest_number'] != 0].drop_duplicates('rest_number')['equal_trps_cm_ty'].reset_index()"
   ]
  },
  {
   "cell_type": "code",
   "execution_count": 308,
   "metadata": {
    "ExecuteTime": {
     "end_time": "2020-09-05T18:02:35.375473Z",
     "start_time": "2020-09-05T18:02:35.364905Z"
    }
   },
   "outputs": [
    {
     "data": {
      "text/html": [
       "<div>\n",
       "<style scoped>\n",
       "    .dataframe tbody tr th:only-of-type {\n",
       "        vertical-align: middle;\n",
       "    }\n",
       "\n",
       "    .dataframe tbody tr th {\n",
       "        vertical-align: top;\n",
       "    }\n",
       "\n",
       "    .dataframe thead th {\n",
       "        text-align: right;\n",
       "    }\n",
       "</style>\n",
       "<table border=\"1\" class=\"dataframe\">\n",
       "  <thead>\n",
       "    <tr style=\"text-align: right;\">\n",
       "      <th></th>\n",
       "      <th>rest_number</th>\n",
       "      <th>equal_trps_cm_ty</th>\n",
       "      <th>sum_total_sales</th>\n",
       "    </tr>\n",
       "  </thead>\n",
       "  <tbody>\n",
       "    <tr>\n",
       "      <th>0</th>\n",
       "      <td>1</td>\n",
       "      <td>0</td>\n",
       "      <td>24682.664000</td>\n",
       "    </tr>\n",
       "    <tr>\n",
       "      <th>1</th>\n",
       "      <td>2</td>\n",
       "      <td>0</td>\n",
       "      <td>28304.408365</td>\n",
       "    </tr>\n",
       "    <tr>\n",
       "      <th>2</th>\n",
       "      <td>3</td>\n",
       "      <td>95</td>\n",
       "      <td>18552.038627</td>\n",
       "    </tr>\n",
       "    <tr>\n",
       "      <th>3</th>\n",
       "      <td>4</td>\n",
       "      <td>95</td>\n",
       "      <td>21487.878592</td>\n",
       "    </tr>\n",
       "    <tr>\n",
       "      <th>4</th>\n",
       "      <td>10</td>\n",
       "      <td>95</td>\n",
       "      <td>23298.984087</td>\n",
       "    </tr>\n",
       "  </tbody>\n",
       "</table>\n",
       "</div>"
      ],
      "text/plain": [
       "   rest_number  equal_trps_cm_ty  sum_total_sales\n",
       "0            1                 0     24682.664000\n",
       "1            2                 0     28304.408365\n",
       "2            3                95     18552.038627\n",
       "3            4                95     21487.878592\n",
       "4           10                95     23298.984087"
      ]
     },
     "execution_count": 308,
     "metadata": {},
     "output_type": "execute_result"
    }
   ],
   "source": [
    "trps_explore = pd.concat([mean_sales, trps], axis=1)[['rest_number', 'equal_trps_cm_ty', 'sum_total_sales']]\n",
    "trps_explore.head()"
   ]
  },
  {
   "cell_type": "code",
   "execution_count": 312,
   "metadata": {
    "ExecuteTime": {
     "end_time": "2020-09-05T18:09:46.947671Z",
     "start_time": "2020-09-05T18:09:46.936553Z"
    }
   },
   "outputs": [
    {
     "name": "stdout",
     "output_type": "stream",
     "text": [
      "Average TRPS Score for Bottom 100 Restaurants:  102.0\n",
      "Average TRPS Score for Top 100 Restaurants:  90.24\n",
      "Average TRPS Score for All Restaurants:  89.09\n"
     ]
    }
   ],
   "source": [
    "print('Average TRPS Score for Bottom 100 Restaurants: ',\n",
    "      round(np.mean(trps_explore.sort_values('sum_total_sales')[:50]['equal_trps_cm_ty']),2))\n",
    "print('Average TRPS Score for Top 100 Restaurants: ',\n",
    "      round(np.mean(trps_explore.sort_values('sum_total_sales', ascending = False)[:50]['equal_trps_cm_ty']),2))\n",
    "print('Average TRPS Score for All Restaurants: ', round(np.mean(trps_explore['equal_trps_cm_ty']),2))"
   ]
  },
  {
   "cell_type": "code",
   "execution_count": 343,
   "metadata": {
    "ExecuteTime": {
     "end_time": "2020-09-05T18:33:00.393500Z",
     "start_time": "2020-09-05T18:32:58.916969Z"
    }
   },
   "outputs": [
    {
     "data": {
      "image/png": "[encoded data removed]",
      "text/plain": [
       "<Figure size 720x720 with 1 Axes>"
      ]
     },
     "metadata": {
      "needs_background": "light"
     },
     "output_type": "display_data"
    }
   ],
   "source": [
    "plt.figure(figsize = (10,10))\n",
    "sns.kdeplot(trps_explore.sort_values('sum_total_sales',ascending = False)[:100]['equal_trps_cm_ty'], \n",
    "            trps_explore.sort_values('sum_total_sales',ascending = False)[:100]['sum_total_sales'], \n",
    "            label = 'Top 100', shade = True, color = 'green')\n",
    "sns.kdeplot(trps_explore.sort_values('sum_total_sales')[:100]['equal_trps_cm_ty'], \n",
    "            trps_explore.sort_values('sum_total_sales')[:100]['sum_total_sales'], \n",
    "            label = 'Bottom 100', shade = 'True', color = 'red')\n",
    "plt.title('KDE Plots of Top and Bottom 100 Performing Restaurants', size = 18)\n",
    "plt.xlabel('TRPS Score', size = 15)\n",
    "plt.ylabel('Average Weekly Sales (USD)', size =15)\n",
    "plt.yticks(size = 15)\n",
    "plt.legend()\n",
    "plt.show()"
   ]
  },
  {
   "cell_type": "markdown",
   "metadata": {},
   "source": [
    "## Competition in Radius"
   ]
  },
  {
   "cell_type": "code",
   "execution_count": 269,
   "metadata": {
    "ExecuteTime": {
     "end_time": "2020-09-05T17:21:16.464235Z",
     "start_time": "2020-09-05T17:21:16.414165Z"
    }
   },
   "outputs": [],
   "source": [
    "compete = modeling_df.loc[modeling_df['rest_number'] != 0].drop_duplicates('rest_number')['sum_of_competitors'].reset_index()"
   ]
  },
  {
   "cell_type": "code",
   "execution_count": 270,
   "metadata": {
    "ExecuteTime": {
     "end_time": "2020-09-05T17:24:57.286801Z",
     "start_time": "2020-09-05T17:24:57.271154Z"
    }
   },
   "outputs": [
    {
     "data": {
      "text/html": [
       "<div>\n",
       "<style scoped>\n",
       "    .dataframe tbody tr th:only-of-type {\n",
       "        vertical-align: middle;\n",
       "    }\n",
       "\n",
       "    .dataframe tbody tr th {\n",
       "        vertical-align: top;\n",
       "    }\n",
       "\n",
       "    .dataframe thead th {\n",
       "        text-align: right;\n",
       "    }\n",
       "</style>\n",
       "<table border=\"1\" class=\"dataframe\">\n",
       "  <thead>\n",
       "    <tr style=\"text-align: right;\">\n",
       "      <th></th>\n",
       "      <th>rest_number</th>\n",
       "      <th>sum_of_competitors</th>\n",
       "      <th>sum_total_sales</th>\n",
       "    </tr>\n",
       "  </thead>\n",
       "  <tbody>\n",
       "    <tr>\n",
       "      <th>0</th>\n",
       "      <td>1</td>\n",
       "      <td>3</td>\n",
       "      <td>24682.664000</td>\n",
       "    </tr>\n",
       "    <tr>\n",
       "      <th>1</th>\n",
       "      <td>2</td>\n",
       "      <td>5</td>\n",
       "      <td>28304.408365</td>\n",
       "    </tr>\n",
       "    <tr>\n",
       "      <th>2</th>\n",
       "      <td>3</td>\n",
       "      <td>3</td>\n",
       "      <td>18552.038627</td>\n",
       "    </tr>\n",
       "    <tr>\n",
       "      <th>3</th>\n",
       "      <td>4</td>\n",
       "      <td>5</td>\n",
       "      <td>21487.878592</td>\n",
       "    </tr>\n",
       "    <tr>\n",
       "      <th>4</th>\n",
       "      <td>10</td>\n",
       "      <td>4</td>\n",
       "      <td>23298.984087</td>\n",
       "    </tr>\n",
       "    <tr>\n",
       "      <th>...</th>\n",
       "      <td>...</td>\n",
       "      <td>...</td>\n",
       "      <td>...</td>\n",
       "    </tr>\n",
       "    <tr>\n",
       "      <th>1090</th>\n",
       "      <td>8438</td>\n",
       "      <td>0</td>\n",
       "      <td>18399.481667</td>\n",
       "    </tr>\n",
       "    <tr>\n",
       "      <th>1091</th>\n",
       "      <td>8440</td>\n",
       "      <td>0</td>\n",
       "      <td>4398.543125</td>\n",
       "    </tr>\n",
       "    <tr>\n",
       "      <th>1092</th>\n",
       "      <td>8445</td>\n",
       "      <td>0</td>\n",
       "      <td>21227.127941</td>\n",
       "    </tr>\n",
       "    <tr>\n",
       "      <th>1093</th>\n",
       "      <td>8517</td>\n",
       "      <td>0</td>\n",
       "      <td>54231.144815</td>\n",
       "    </tr>\n",
       "    <tr>\n",
       "      <th>1094</th>\n",
       "      <td>9002</td>\n",
       "      <td>0</td>\n",
       "      <td>20752.774272</td>\n",
       "    </tr>\n",
       "  </tbody>\n",
       "</table>\n",
       "<p>1095 rows × 3 columns</p>\n",
       "</div>"
      ],
      "text/plain": [
       "      rest_number  sum_of_competitors  sum_total_sales\n",
       "0               1                   3     24682.664000\n",
       "1               2                   5     28304.408365\n",
       "2               3                   3     18552.038627\n",
       "3               4                   5     21487.878592\n",
       "4              10                   4     23298.984087\n",
       "...           ...                 ...              ...\n",
       "1090         8438                   0     18399.481667\n",
       "1091         8440                   0      4398.543125\n",
       "1092         8445                   0     21227.127941\n",
       "1093         8517                   0     54231.144815\n",
       "1094         9002                   0     20752.774272\n",
       "\n",
       "[1095 rows x 3 columns]"
      ]
     },
     "execution_count": 270,
     "metadata": {},
     "output_type": "execute_result"
    }
   ],
   "source": [
    "compete_explore = pd.concat([mean_sales, compete], axis=1)[['rest_number', 'sum_of_competitors', 'sum_total_sales']]\n",
    "compete_explore"
   ]
  },
  {
   "cell_type": "code",
   "execution_count": 298,
   "metadata": {
    "ExecuteTime": {
     "end_time": "2020-09-05T17:54:03.805052Z",
     "start_time": "2020-09-05T17:54:03.240197Z"
    }
   },
   "outputs": [
    {
     "data": {
      "image/png": "[encoded data removed]",
      "text/plain": [
       "<Figure size 720x504 with 1 Axes>"
      ]
     },
     "metadata": {
      "needs_background": "light"
     },
     "output_type": "display_data"
    }
   ],
   "source": [
    "plt.figure(figsize = (10,7))\n",
    "sns.barplot(compete_explore['sum_total_sales'], compete_explore['sum_of_competitors'],orient = 'h', palette='Greens')\n",
    "plt.title('Average Weekly Sales based on # of Competitors in Radius', size = 15)\n",
    "plt.ylabel('# of Competitors in 1 Mile Radius', size = 12)\n",
    "plt.xlabel('Average Weekly Sales', size = 12)\n",
    "plt.show()"
   ]
  },
  {
   "cell_type": "markdown",
   "metadata": {},
   "source": [
    "# Modeling"
   ]
  },
  {
   "cell_type": "markdown",
   "metadata": {},
   "source": [
    "## Preprocessing"
   ]
  },
  {
   "cell_type": "code",
   "execution_count": 139,
   "metadata": {
    "ExecuteTime": {
     "end_time": "2020-09-05T15:58:34.023308Z",
     "start_time": "2020-09-05T15:58:34.017463Z"
    }
   },
   "outputs": [],
   "source": [
    "modeling_dummied['sum total sales'] = modeling_dummied['sum total sales'].fillna(0.0)"
   ]
  },
  {
   "cell_type": "code",
   "execution_count": 140,
   "metadata": {
    "ExecuteTime": {
     "end_time": "2020-09-05T15:58:35.975875Z",
     "start_time": "2020-09-05T15:58:35.943061Z"
    }
   },
   "outputs": [],
   "source": [
    "y = modeling_dummied['sum total sales']\n",
    "X = modeling_dummied.drop(columns = ['sum total sales','rest_dma_desc', 'rest_status', 'rest_addrstate', \n",
    "                                     'rest_remodeldt', 'rest_opendate', 'rest_closedate', 'print_media_drop_date'])"
   ]
  },
  {
   "cell_type": "code",
   "execution_count": 141,
   "metadata": {
    "ExecuteTime": {
     "end_time": "2020-09-05T15:58:37.770363Z",
     "start_time": "2020-09-05T15:58:37.624064Z"
    }
   },
   "outputs": [],
   "source": [
    "X_train, X_test, y_train, y_test = train_test_split(X, y, random_state = 42, test_size = 0.25)"
   ]
  },
  {
   "cell_type": "markdown",
   "metadata": {},
   "source": [
    "## Random Forest Regressor Model"
   ]
  },
  {
   "cell_type": "code",
   "execution_count": 142,
   "metadata": {
    "ExecuteTime": {
     "end_time": "2020-09-05T15:58:39.367880Z",
     "start_time": "2020-09-05T15:58:39.364702Z"
    }
   },
   "outputs": [],
   "source": [
    "rfcr = RandomForestRegressor()"
   ]
  },
  {
   "cell_type": "code",
   "execution_count": 143,
   "metadata": {
    "ExecuteTime": {
     "end_time": "2020-09-05T16:01:16.505976Z",
     "start_time": "2020-09-05T15:58:40.971721Z"
    }
   },
   "outputs": [
    {
     "data": {
      "text/plain": [
       "RandomForestRegressor()"
      ]
     },
     "execution_count": 143,
     "metadata": {},
     "output_type": "execute_result"
    }
   ],
   "source": [
    "rfcr.fit(X_train, y_train)"
   ]
  },
  {
   "cell_type": "code",
   "execution_count": 144,
   "metadata": {
    "ExecuteTime": {
     "end_time": "2020-09-05T16:02:04.366987Z",
     "start_time": "2020-09-05T16:02:01.492494Z"
    }
   },
   "outputs": [
    {
     "data": {
      "text/plain": [
       "0.8993101080649248"
      ]
     },
     "execution_count": 144,
     "metadata": {},
     "output_type": "execute_result"
    }
   ],
   "source": [
    "rfcr.score(X_test, y_test)"
   ]
  },
  {
   "cell_type": "code",
   "execution_count": 145,
   "metadata": {
    "ExecuteTime": {
     "end_time": "2020-09-05T16:02:15.487565Z",
     "start_time": "2020-09-05T16:02:15.274295Z"
    }
   },
   "outputs": [],
   "source": [
    "coef_dict = dict(zip(X_train.columns, rfcr.feature_importances_))"
   ]
  },
  {
   "cell_type": "code",
   "execution_count": 146,
   "metadata": {
    "ExecuteTime": {
     "end_time": "2020-09-05T16:02:17.062337Z",
     "start_time": "2020-09-05T16:02:17.056480Z"
    }
   },
   "outputs": [],
   "source": [
    "feature_importances = pd.DataFrame(coef_dict.items(), columns=['coef_', 'coef_value'])"
   ]
  },
  {
   "cell_type": "code",
   "execution_count": 154,
   "metadata": {
    "ExecuteTime": {
     "end_time": "2020-09-05T16:03:37.231422Z",
     "start_time": "2020-09-05T16:03:37.025660Z"
    }
   },
   "outputs": [
    {
     "data": {
      "image/png": "[encoded data removed]",
      "text/plain": [
       "<Figure size 720x360 with 1 Axes>"
      ]
     },
     "metadata": {
      "needs_background": "light"
     },
     "output_type": "display_data"
    }
   ],
   "source": [
    "plt.figure(figsize = (10,5))\n",
    "sns.barplot(feature_importances.sort_values('coef_value', ascending = False)[0:6]['coef_value'],\n",
    "            feature_importances.sort_values('coef_value', ascending = False)[0:6]['coef_'], orient = 'h')\n",
    "plt.title('Feature Importances', size = 15)\n",
    "plt.ylabel('Model Features', size = 12)\n",
    "plt.xlabel('Coef_ Value', size = 12)\n",
    "plt.show()"
   ]
  },
  {
   "cell_type": "code",
   "execution_count": 299,
   "metadata": {
    "ExecuteTime": {
     "end_time": "2020-09-05T17:56:12.255705Z",
     "start_time": "2020-09-05T17:56:09.624270Z"
    }
   },
   "outputs": [],
   "source": [
    "predictions = rfcr.predict(X_test)"
   ]
  },
  {
   "cell_type": "code",
   "execution_count": null,
   "metadata": {},
   "outputs": [],
   "source": []
  }
 ],
 "metadata": {
  "kernelspec": {
   "display_name": "learn-env",
   "language": "python",
   "name": "learn-env"
  },
  "language_info": {
   "codemirror_mode": {
    "name": "ipython",
    "version": 3
   },
   "file_extension": ".py",
   "mimetype": "text/x-python",
   "name": "python",
   "nbconvert_exporter": "python",
   "pygments_lexer": "ipython3",
   "version": "3.6.9"
  },
  "toc": {
   "base_numbering": 1,
   "nav_menu": {},
   "number_sections": true,
   "sideBar": true,
   "skip_h1_title": false,
   "title_cell": "Table of Contents",
   "title_sidebar": "Contents",
   "toc_cell": false,
   "toc_position": {
    "height": "calc(100% - 180px)",
    "left": "10px",
    "top": "150px",
    "width": "325.2px"
   },
   "toc_section_display": true,
   "toc_window_display": true
  },
  "varInspector": {
   "cols": {
    "lenName": 16,
    "lenType": 16,
    "lenVar": 40
   },
   "kernels_config": {
    "python": {
     "delete_cmd_postfix": "",
     "delete_cmd_prefix": "del ",
     "library": "var_list.py",
     "varRefreshCmd": "print(var_dic_list())"
    },
    "r": {
     "delete_cmd_postfix": ") ",
     "delete_cmd_prefix": "rm(",
     "library": "var_list.r",
     "varRefreshCmd": "cat(var_dic_list()) "
    }
   },
   "types_to_exclude": [
    "module",
    "function",
    "builtin_function_or_method",
    "instance",
    "_Feature"
   ],
   "window_display": false
  }
 },
 "nbformat": 4,
 "nbformat_minor": 2
}
